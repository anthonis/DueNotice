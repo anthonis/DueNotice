{
 "cells": [
  {
   "cell_type": "code",
   "execution_count": 1,
   "metadata": {},
   "outputs": [
    {
     "name": "stdout",
     "output_type": "stream",
     "text": [
      "PyTables is not installed. No support for HDF output.\n",
      "SQLalchemy is not installed. No support for SQL output.\n"
     ]
    }
   ],
   "source": [
    "#Imports\n",
    "from IPython.display import display\n",
    "import matplotlib.pyplot as plt\n",
    "%matplotlib inline\n",
    "import numpy as np\n",
    "import os\n",
    "import shutil\n",
    "import posixpath\n",
    "import pandas as pd\n",
    "from numpy.random import randn\n",
    "import re\n",
    "from PyEMD import EMD\n",
    "import catch22\n",
    "import seaborn as sns\n",
    "from datetime import datetime\n",
    "from io import StringIO\n",
    "import scipy\n",
    "from sklearn.utils import resample\n",
    "from sklearn.linear_model import LogisticRegression\n",
    "#from scipy import scipy.signal\n",
    "import pickle\n",
    "from scipy.stats import norm\n",
    "import matplotlib.mlab as mlab\n",
    "from IPython.display import Image  \n",
    "#from sklearn.externals.six import StringIO  \n",
    "from sklearn.tree import export_graphviz\n",
    "import pydot\n",
    "from sklearn.datasets import make_classification\n",
    "from sklearn.ensemble import ExtraTreesClassifier\n",
    "from sklearn import metrics\n",
    "import nolds\n",
    "from scipy.stats import entropy\n",
    "from math import log, e\n",
    "from scipy.signal import hilbert, chirp\n",
    "import timeit\n",
    "from scipy import signal\n",
    "from PyEMD import EMD\n",
    "import numpy  as np\n",
    "#import pylab as plt\n",
    "from imblearn.over_sampling import SMOTE\n",
    "from sklearn import preprocessing\n",
    "from sklearn.preprocessing import StandardScaler\n",
    "from sklearn.model_selection import StratifiedKFold, KFold,RandomizedSearchCV, GridSearchCV\n",
    "from scipy.interpolate import CubicSpline      # for warping\n",
    "from transforms3d.axangles import axangle2mat  # for rotation\n",
    "from detecta import detect_peaks\n",
    "from scipy.signal import welch\n",
    "from scipy.fftpack import fft\n",
    "from sklearn.metrics import precision_score\n",
    "import xgboost as xgb\n",
    "from sklearn.preprocessing import LabelEncoder\n",
    "import joblib\n",
    "from sklearn.model_selection import cross_val_score\n",
    "from sklearn.model_selection import train_test_split\n",
    "from sklearn.ensemble import RandomForestRegressor\n",
    "\n",
    "import wfdb\n",
    "\n",
    "from collections import defaultdict, Counter\n",
    "\n",
    "from sklearn.ensemble import RandomForestClassifier\n",
    "from sklearn.metrics import classification_report, roc_auc_score\n",
    "from simpledbf import Dbf5\n",
    "from sklearn.model_selection import GroupShuffleSplit\n",
    "from sklearn.neighbors import KNeighborsClassifier\n",
    "from sklearn.linear_model import LogisticRegression\n",
    "from sklearn.naive_bayes import GaussianNB\n",
    "\n",
    "\n",
    "import shap\n",
    "\n",
    "import random\n",
    "\n",
    "from sklearn.model_selection import RandomizedSearchCV"
   ]
  },
  {
   "cell_type": "markdown",
   "metadata": {},
   "source": [
    "## Define functions to extract features"
   ]
  },
  {
   "cell_type": "code",
   "execution_count": 9,
   "metadata": {},
   "outputs": [],
   "source": [
    "import catch22_C\n",
    "\n",
    "def catch22_all(data):\n",
    "\n",
    "\tfeatures = [\n",
    "\t'DN_HistogramMode_5',\n",
    "\t'DN_HistogramMode_10',\n",
    "\t'CO_f1ecac',\n",
    "\t'CO_FirstMin_ac',\n",
    "\t'CO_HistogramAMI_even_2_5',\n",
    "\t'CO_trev_1_num',\n",
    "\t'MD_hrv_classic_pnn40',\n",
    "\t'SB_BinaryStats_mean_longstretch1',\n",
    "\t'SB_TransitionMatrix_3ac_sumdiagcov',\n",
    "\t'PD_PeriodicityWang_th0_01',\n",
    "\t'CO_Embed2_Dist_tau_d_expfit_meandiff',\n",
    "\t'IN_AutoMutualInfoStats_40_gaussian_fmmi',\n",
    "\t'FC_LocalSimple_mean1_tauresrat',\n",
    "\t'DN_OutlierInclude_p_001_mdrmd',\n",
    "\t'DN_OutlierInclude_n_001_mdrmd',\n",
    "\t'SP_Summaries_welch_rect_area_5_1',\n",
    "\t'SB_BinaryStats_diff_longstretch0',\n",
    "\t'SB_MotifThree_quantile_hh',\n",
    "\t'SC_FluctAnal_2_rsrangefit_50_1_logi_prop_r1',\n",
    "\t'SC_FluctAnal_2_dfa_50_1_2_logi_prop_r1',\n",
    "\t'SP_Summaries_welch_rect_centroid',\n",
    "\t'FC_LocalSimple_mean3_stderr'\n",
    "\t]\t\n",
    "\n",
    "\tdata = list(data)\n",
    "\n",
    "\tfeatureOut = []\n",
    "\tfor f in features:\n",
    "\t\tfeatureFun = getattr(catch22_C, f)\n",
    "\t\tfeatureOut.append(featureFun(data))\n",
    "\n",
    "\treturn {'names': features, 'values': featureOut}"
   ]
  },
  {
   "cell_type": "code",
   "execution_count": 10,
   "metadata": {},
   "outputs": [],
   "source": [
    "def unpack_comments(comments):\n",
    "    '''\n",
    "    function to unpack comments and convert them to features\n",
    "    '''\n",
    "    features = []\n",
    "    features.append(int(comments[1].split(\" \")[1]))\n",
    "    features.append(float(comments[2].split(\" \")[1]))\n",
    "    features.append(float(comments[3].split(\" \")[1]))\n",
    "    features.append((comments[4].split(\" \")[1]))\n",
    "    features.append((comments[5].split(\" \")[1]))\n",
    "    features.append((comments[6].split(\" \")[1]))\n",
    "    features.append((comments[7].split(\" \")[1]))\n",
    "    features.append(comments[8].split(\" \")[1])\n",
    "    features.append(comments[9].split(\" \")[1])\n",
    "    features.append(comments[10].split(\" \")[1])\n",
    "    features.append(comments[11].split(\" \")[1])\n",
    "    features.append(comments[12].split(\" \")[1])\n",
    "    features.append(comments[13].split(\" \")[1])\n",
    "    features.append(comments[14].split(\" \")[1])\n",
    "    return features\n",
    "    #filename = filename.split(\".\")[0]"
   ]
  },
  {
   "cell_type": "code",
   "execution_count": 11,
   "metadata": {},
   "outputs": [],
   "source": [
    "def entropy2(labels, base=None):\n",
    "    '''\n",
    "    A function to extract entropy from a time series, \n",
    "    ref: https://stackoverflow.com/questions/15450192/fastest-way-to-compute-entropy-in-python\n",
    "    '''\n",
    "    n_labels = len(labels)\n",
    "    if n_labels <= 1:\n",
    "        return 0\n",
    "    value,counts = np.unique(labels, return_counts=True)\n",
    "    probs = counts / n_labels\n",
    "    n_classes = np.count_nonzero(probs)\n",
    "    if n_classes <= 1:\n",
    "        return 0\n",
    "    ent = 0.\n",
    "    base = e if base is None else base\n",
    "    for i in probs:\n",
    "        ent -= i * log(i, base)\n",
    "        \n",
    "    return ent"
   ]
  },
  {
   "cell_type": "code",
   "execution_count": 12,
   "metadata": {},
   "outputs": [],
   "source": [
    "def get_fft_values(y_values, T, N, f_s):\n",
    "    f_values = np.linspace(0.0, 1.0/(2.0*T), N//2)\n",
    "    fft_values_ = fft(y_values)\n",
    "    fft_values = 2.0/N * np.abs(fft_values_[0:N//2])\n",
    "    return f_values, fft_values\n",
    "\n",
    "def get_psd_values(y_values, T, N, f_s):\n",
    "    f_values, psd_values = welch(y_values, fs=f_s)\n",
    "    return f_values, psd_values\n",
    "\n",
    "\n",
    "\n",
    "def autocorr(x):\n",
    "    result = np.correlate(x, x, mode='full')\n",
    "    return result[len(result)//2:]\n",
    "\n",
    "def get_autocorr_values(y_values, T, N, f_s):\n",
    "    autocorr_values = autocorr(y_values)\n",
    "    x_values = np.array([T * jj for jj in range(0, N)])\n",
    "    return x_values, autocorr_values\n",
    "\n",
    "\n",
    "\n",
    "def get_first_n_peaks(x,y,no_peaks=5):\n",
    "    x_, y_ = list(x), list(y)\n",
    "    if len(x_) >= no_peaks:\n",
    "        return x_[:no_peaks], y_[:no_peaks]\n",
    "    else:\n",
    "        missing_no_peaks = no_peaks-len(x_)\n",
    "        return x_ + [0]*missing_no_peaks, y_ + [0]*missing_no_peaks\n",
    "    \n",
    "def get_features(x_values, y_values, mph):\n",
    "    indices_peaks = detect_peaks(y_values, mph=mph)\n",
    "    peaks_x, peaks_y = get_first_n_peaks(x_values[indices_peaks], y_values[indices_peaks])\n",
    "    return peaks_x + peaks_y\n",
    "\n",
    "def extract_features_labels(dataset, labels, T, N, f_s, denominator):\n",
    "    percentile = 5\n",
    "    list_of_features = []\n",
    "    list_of_labels = []\n",
    "    for signal_no in range(0, len(dataset)):\n",
    "        features = []\n",
    "        list_of_labels.append(labels[signal_no])\n",
    "        for signal_comp in range(0,dataset.shape[2]):\n",
    "            signal = dataset[signal_no, :, signal_comp]\n",
    "            \n",
    "            signal_min = np.nanpercentile(signal, percentile)\n",
    "            signal_max = np.nanpercentile(signal, 100-percentile)\n",
    "            #ijk = (100 - 2*percentile)/10\n",
    "            mph = signal_min + (signal_max - signal_min)/denominator\n",
    "            \n",
    "            features += get_features(*get_psd_values(signal, T, N, f_s), mph)\n",
    "            features += get_features(*get_fft_values(signal, T, N, f_s), mph)\n",
    "            features += get_features(*get_autocorr_values(signal, T, N, f_s), mph)\n",
    "            print(type(features))\n",
    "        list_of_features.append(features)\n",
    "    return np.array(list_of_features), np.array(list_of_labels)\n"
   ]
  },
  {
   "cell_type": "code",
   "execution_count": null,
   "metadata": {},
   "outputs": [],
   "source": []
  },
  {
   "cell_type": "markdown",
   "metadata": {},
   "source": [
    "## Read in signals to a dataframe"
   ]
  },
  {
   "cell_type": "code",
   "execution_count": 34,
   "metadata": {},
   "outputs": [],
   "source": [
    "#Put all timeseries as rows in a data frame with the final column the target label\n",
    "\n",
    "#make dataframe to fill\n",
    "#df1 = pd.DataFrame(randn(24000,301))\n",
    "#df2 = pd.DataFrame(randn(24000,301))\n",
    "#df = pd.DataFrame(columns='RecID Gestation Rectime Age Parity Abortions Weight Hypertension Diabetes Ppos Bleed1T Bleed2T Funneling Smoker'.split())\n",
    "#df2 = pd.DataFrame(columns='c1 c2 c3 OutlierInt c5 1_e_AC ACmin1A c8 FPS_centroid c10 TRS c12 AMImin1 Sdiff1 Sdiff2 IncEntropy deltaCorr c18 PropFluc1 PropFluc2 c21 WPeriodicity'.split())\n",
    "#df3 = pd.DataFrame(columns='mu signma'.split())\n",
    "#df4 = pd.DataFrame(columns='mf_ts sh_ts e1_ts e2_ts mf sh e1 e2 f0 a0 f1 a1 f2 a2'.split())\n",
    "#df6 = pd.DataFrame(columns='RecID Gestation Rectime mu sigma medfreq Entropy 0 1 2 3 4 5 6 FT3f 8 9 10 11 12 13 14 15 16 17 18 19 PSD5A 21 22 23 AC4f AC5f 26 AC2A 28 29 AC5A 31'.split())\n",
    "dfi = pd.DataFrame()\n",
    "directory_path = '/Users/madeleineanthonisen/Documents/Random/wfdb-python/term-preterm-ehg-database-1.0.1/tpehgdb/'\n",
    "#directory = os.fsencode(directory_in_str)\n",
    "\n",
    "#some attributes for signal\n",
    "fs = 20\n",
    "f_s = 20\n",
    "dt = 1/f_s\n",
    "t_n = 1200\n",
    "sample_rate = 1 / f_s\n",
    "denominator = 10\n",
    "list_of_features = []\n",
    "percentile = 10\n",
    "\n",
    "\n",
    "#Loop to apply preprocessing to all files in directory\n",
    "i=0\n",
    "for file in os.listdir(directory_path):\n",
    "    filename = os.fsdecode(file)\n",
    "    #if filename.endswith(\".dat\") or filename.endswith(\".hea\"):\n",
    "    if filename.endswith(\".dat\"):\n",
    "        i+=1\n",
    "        \n",
    "        filename = filename.split(\".\")[0]\n",
    "        #print(filename)\n",
    "        signals, fields = wfdb.rdsamp('/Users/madeleineanthonisen/Documents/Random/wfdb-python/term-preterm-ehg-database-1.0.1/tpehgdb/'+filename, channels=[9])\n",
    "        \n",
    "        #cut for noise at start&end of recording\n",
    "        ts = []\n",
    "        signals = signals[6000:30000]\n",
    "        comments = fields['comments']\n",
    "        feats = unpack_comments(comments)\n",
    "        if feats[1]<37:\n",
    "            label = 1\n",
    "        else:\n",
    "            label = 0\n",
    "        \n",
    "        #print(label)\n",
    "        #print(type(label))\n",
    "            \n",
    "        #signals = signals.reshape(1,len(signals))\n",
    "        ts = np.append(signals,[feats[2],label])\n",
    "        #ts = np.append(ts,feats[3])\n",
    "        #ts = np.append(ts,label)\n",
    "        #ts = ts.reshape(1,len(ts))\n",
    "        \n",
    "        #ts = [signals,label]\n",
    "        #ts = np.array(ts)\n",
    "        #print(signals.shape)\n",
    "        #signals += [label]\n",
    "        #print(ts.shape)\n",
    "        #print(type(ts))\n",
    "        \n",
    "        s = pd.Series(ts)\n",
    "        dfi = dfi.append(s, ignore_index=True)\n",
    "        #print(i)\n",
    "        #print(feats[0])\n",
    "\n",
    "        \n",
    "    else:\n",
    "         continue\n",
    "#print(features)\n",
    "#print(i)\n",
    "#print(len(signals))\n",
    "#print(signals.shape)"
   ]
  },
  {
   "cell_type": "code",
   "execution_count": 35,
   "metadata": {},
   "outputs": [
    {
     "data": {
      "text/html": [
       "<div>\n",
       "<style scoped>\n",
       "    .dataframe tbody tr th:only-of-type {\n",
       "        vertical-align: middle;\n",
       "    }\n",
       "\n",
       "    .dataframe tbody tr th {\n",
       "        vertical-align: top;\n",
       "    }\n",
       "\n",
       "    .dataframe thead th {\n",
       "        text-align: right;\n",
       "    }\n",
       "</style>\n",
       "<table border=\"1\" class=\"dataframe\">\n",
       "  <thead>\n",
       "    <tr style=\"text-align: right;\">\n",
       "      <th></th>\n",
       "      <th>0</th>\n",
       "      <th>1</th>\n",
       "      <th>2</th>\n",
       "      <th>3</th>\n",
       "      <th>4</th>\n",
       "      <th>5</th>\n",
       "      <th>6</th>\n",
       "      <th>7</th>\n",
       "      <th>8</th>\n",
       "      <th>9</th>\n",
       "      <th>...</th>\n",
       "      <th>23992</th>\n",
       "      <th>23993</th>\n",
       "      <th>23994</th>\n",
       "      <th>23995</th>\n",
       "      <th>23996</th>\n",
       "      <th>23997</th>\n",
       "      <th>23998</th>\n",
       "      <th>23999</th>\n",
       "      <th>24000</th>\n",
       "      <th>24001</th>\n",
       "    </tr>\n",
       "  </thead>\n",
       "  <tbody>\n",
       "    <tr>\n",
       "      <th>0</th>\n",
       "      <td>0.003204</td>\n",
       "      <td>0.001755</td>\n",
       "      <td>-0.000076</td>\n",
       "      <td>-0.001221</td>\n",
       "      <td>-0.001068</td>\n",
       "      <td>-0.000305</td>\n",
       "      <td>0.000229</td>\n",
       "      <td>0.000458</td>\n",
       "      <td>0.000763</td>\n",
       "      <td>0.001755</td>\n",
       "      <td>...</td>\n",
       "      <td>0.003281</td>\n",
       "      <td>0.004654</td>\n",
       "      <td>0.004807</td>\n",
       "      <td>0.002976</td>\n",
       "      <td>0.000229</td>\n",
       "      <td>-0.001068</td>\n",
       "      <td>-0.000153</td>\n",
       "      <td>0.001678</td>\n",
       "      <td>24.4</td>\n",
       "      <td>1.0</td>\n",
       "    </tr>\n",
       "    <tr>\n",
       "      <th>1</th>\n",
       "      <td>0.008011</td>\n",
       "      <td>0.005646</td>\n",
       "      <td>0.000534</td>\n",
       "      <td>-0.003815</td>\n",
       "      <td>-0.006180</td>\n",
       "      <td>-0.007324</td>\n",
       "      <td>-0.008392</td>\n",
       "      <td>-0.009384</td>\n",
       "      <td>-0.009766</td>\n",
       "      <td>-0.009003</td>\n",
       "      <td>...</td>\n",
       "      <td>0.001068</td>\n",
       "      <td>0.000229</td>\n",
       "      <td>-0.000916</td>\n",
       "      <td>-0.001221</td>\n",
       "      <td>-0.000076</td>\n",
       "      <td>0.000992</td>\n",
       "      <td>0.000763</td>\n",
       "      <td>-0.000229</td>\n",
       "      <td>22.1</td>\n",
       "      <td>0.0</td>\n",
       "    </tr>\n",
       "    <tr>\n",
       "      <th>2</th>\n",
       "      <td>-0.000763</td>\n",
       "      <td>-0.000534</td>\n",
       "      <td>0.001602</td>\n",
       "      <td>0.004044</td>\n",
       "      <td>0.005264</td>\n",
       "      <td>0.005188</td>\n",
       "      <td>0.005035</td>\n",
       "      <td>0.005417</td>\n",
       "      <td>0.005722</td>\n",
       "      <td>0.004883</td>\n",
       "      <td>...</td>\n",
       "      <td>-0.005188</td>\n",
       "      <td>-0.004501</td>\n",
       "      <td>-0.003128</td>\n",
       "      <td>-0.002365</td>\n",
       "      <td>-0.002441</td>\n",
       "      <td>-0.002823</td>\n",
       "      <td>-0.002976</td>\n",
       "      <td>-0.003510</td>\n",
       "      <td>31.0</td>\n",
       "      <td>0.0</td>\n",
       "    </tr>\n",
       "    <tr>\n",
       "      <th>3</th>\n",
       "      <td>0.020600</td>\n",
       "      <td>0.023499</td>\n",
       "      <td>0.023117</td>\n",
       "      <td>0.020371</td>\n",
       "      <td>0.019455</td>\n",
       "      <td>0.023041</td>\n",
       "      <td>0.029297</td>\n",
       "      <td>0.035325</td>\n",
       "      <td>0.039673</td>\n",
       "      <td>0.042191</td>\n",
       "      <td>...</td>\n",
       "      <td>-0.003281</td>\n",
       "      <td>-0.000229</td>\n",
       "      <td>0.002136</td>\n",
       "      <td>0.001068</td>\n",
       "      <td>-0.001907</td>\n",
       "      <td>-0.002823</td>\n",
       "      <td>0.000000</td>\n",
       "      <td>0.004196</td>\n",
       "      <td>22.0</td>\n",
       "      <td>0.0</td>\n",
       "    </tr>\n",
       "    <tr>\n",
       "      <th>4</th>\n",
       "      <td>-0.005035</td>\n",
       "      <td>-0.004349</td>\n",
       "      <td>-0.003662</td>\n",
       "      <td>-0.003357</td>\n",
       "      <td>-0.003662</td>\n",
       "      <td>-0.004120</td>\n",
       "      <td>-0.004273</td>\n",
       "      <td>-0.003586</td>\n",
       "      <td>-0.002670</td>\n",
       "      <td>-0.002518</td>\n",
       "      <td>...</td>\n",
       "      <td>-0.001984</td>\n",
       "      <td>-0.001602</td>\n",
       "      <td>-0.001678</td>\n",
       "      <td>-0.002365</td>\n",
       "      <td>-0.003204</td>\n",
       "      <td>-0.003586</td>\n",
       "      <td>-0.003586</td>\n",
       "      <td>-0.003510</td>\n",
       "      <td>31.3</td>\n",
       "      <td>0.0</td>\n",
       "    </tr>\n",
       "  </tbody>\n",
       "</table>\n",
       "<p>5 rows × 24002 columns</p>\n",
       "</div>"
      ],
      "text/plain": [
       "      0         1         2         3         4         5         6      \\\n",
       "0  0.003204  0.001755 -0.000076 -0.001221 -0.001068 -0.000305  0.000229   \n",
       "1  0.008011  0.005646  0.000534 -0.003815 -0.006180 -0.007324 -0.008392   \n",
       "2 -0.000763 -0.000534  0.001602  0.004044  0.005264  0.005188  0.005035   \n",
       "3  0.020600  0.023499  0.023117  0.020371  0.019455  0.023041  0.029297   \n",
       "4 -0.005035 -0.004349 -0.003662 -0.003357 -0.003662 -0.004120 -0.004273   \n",
       "\n",
       "      7         8         9      ...     23992     23993     23994     23995  \\\n",
       "0  0.000458  0.000763  0.001755  ...  0.003281  0.004654  0.004807  0.002976   \n",
       "1 -0.009384 -0.009766 -0.009003  ...  0.001068  0.000229 -0.000916 -0.001221   \n",
       "2  0.005417  0.005722  0.004883  ... -0.005188 -0.004501 -0.003128 -0.002365   \n",
       "3  0.035325  0.039673  0.042191  ... -0.003281 -0.000229  0.002136  0.001068   \n",
       "4 -0.003586 -0.002670 -0.002518  ... -0.001984 -0.001602 -0.001678 -0.002365   \n",
       "\n",
       "      23996     23997     23998     23999  24000  24001  \n",
       "0  0.000229 -0.001068 -0.000153  0.001678   24.4    1.0  \n",
       "1 -0.000076  0.000992  0.000763 -0.000229   22.1    0.0  \n",
       "2 -0.002441 -0.002823 -0.002976 -0.003510   31.0    0.0  \n",
       "3 -0.001907 -0.002823  0.000000  0.004196   22.0    0.0  \n",
       "4 -0.003204 -0.003586 -0.003586 -0.003510   31.3    0.0  \n",
       "\n",
       "[5 rows x 24002 columns]"
      ]
     },
     "execution_count": 35,
     "metadata": {},
     "output_type": "execute_result"
    }
   ],
   "source": [
    "dfi.head()"
   ]
  },
  {
   "cell_type": "code",
   "execution_count": 15,
   "metadata": {},
   "outputs": [],
   "source": [
    "dfi = dfi.drop(24000,axis=1)"
   ]
  },
  {
   "cell_type": "code",
   "execution_count": 12,
   "metadata": {},
   "outputs": [],
   "source": [
    "# M = dfi.values\n",
    "# X = M[:, :-1]\n",
    "# y = M[:, -1].astype(float)"
   ]
  },
  {
   "cell_type": "code",
   "execution_count": null,
   "metadata": {},
   "outputs": [],
   "source": []
  },
  {
   "cell_type": "code",
   "execution_count": null,
   "metadata": {},
   "outputs": [],
   "source": []
  },
  {
   "cell_type": "code",
   "execution_count": 30,
   "metadata": {},
   "outputs": [
    {
     "data": {
      "text/plain": [
       "0.0    261\n",
       "1.0     38\n",
       "Name: 24001, dtype: int64"
      ]
     },
     "execution_count": 30,
     "metadata": {},
     "output_type": "execute_result"
    }
   ],
   "source": [
    "dfi[24001].value_counts()"
   ]
  },
  {
   "cell_type": "markdown",
   "metadata": {},
   "source": [
    "## Train-test split & SMOTE of training set"
   ]
  },
  {
   "cell_type": "code",
   "execution_count": 75,
   "metadata": {},
   "outputs": [],
   "source": [
    "#Train-test split\n",
    "from sklearn.model_selection import train_test_split\n",
    "from sklearn.metrics import confusion_matrix,classification_report,f1_score,accuracy_score\n",
    "\n",
    "X = dfi.drop([24001],axis=1)\n",
    "y = dfi[24001]\n",
    "\n",
    "X_train, X_test, y_train, y_test = train_test_split(X, y, test_size=0.2, random_state=0)\n",
    "\n",
    "sm = SMOTE(random_state=2)\n",
    "\n",
    "\n",
    "X_train_res, y_train_res = sm.fit_sample(X_train, y_train.ravel())\n"
   ]
  },
  {
   "cell_type": "code",
   "execution_count": 17,
   "metadata": {},
   "outputs": [
    {
     "name": "stdout",
     "output_type": "stream",
     "text": [
      "After OverSampling, counts of label '1': 223\n",
      "After OverSampling, counts of label '0': 223\n"
     ]
    }
   ],
   "source": [
    "print(\"After OverSampling, counts of label '1': {}\".format(sum(y_train_res==1)))\n",
    "print(\"After OverSampling, counts of label '0': {}\".format(sum(y_train_res==0)))\n"
   ]
  },
  {
   "cell_type": "code",
   "execution_count": 38,
   "metadata": {},
   "outputs": [
    {
     "data": {
      "text/html": [
       "<div>\n",
       "<style scoped>\n",
       "    .dataframe tbody tr th:only-of-type {\n",
       "        vertical-align: middle;\n",
       "    }\n",
       "\n",
       "    .dataframe tbody tr th {\n",
       "        vertical-align: top;\n",
       "    }\n",
       "\n",
       "    .dataframe thead th {\n",
       "        text-align: right;\n",
       "    }\n",
       "</style>\n",
       "<table border=\"1\" class=\"dataframe\">\n",
       "  <thead>\n",
       "    <tr style=\"text-align: right;\">\n",
       "      <th></th>\n",
       "      <th>0</th>\n",
       "      <th>1</th>\n",
       "      <th>2</th>\n",
       "      <th>3</th>\n",
       "      <th>4</th>\n",
       "      <th>5</th>\n",
       "      <th>6</th>\n",
       "      <th>7</th>\n",
       "      <th>8</th>\n",
       "      <th>9</th>\n",
       "      <th>...</th>\n",
       "      <th>23992</th>\n",
       "      <th>23993</th>\n",
       "      <th>23994</th>\n",
       "      <th>23995</th>\n",
       "      <th>23996</th>\n",
       "      <th>23997</th>\n",
       "      <th>23998</th>\n",
       "      <th>23999</th>\n",
       "      <th>24000</th>\n",
       "      <th>24001</th>\n",
       "    </tr>\n",
       "  </thead>\n",
       "  <tbody>\n",
       "    <tr>\n",
       "      <th>206</th>\n",
       "      <td>-0.001755</td>\n",
       "      <td>-0.002441</td>\n",
       "      <td>-0.002518</td>\n",
       "      <td>-0.001297</td>\n",
       "      <td>0.000916</td>\n",
       "      <td>0.002594</td>\n",
       "      <td>0.002213</td>\n",
       "      <td>0.000687</td>\n",
       "      <td>0.000000</td>\n",
       "      <td>0.001297</td>\n",
       "      <td>...</td>\n",
       "      <td>0.000381</td>\n",
       "      <td>0.000610</td>\n",
       "      <td>0.002518</td>\n",
       "      <td>0.003738</td>\n",
       "      <td>0.002441</td>\n",
       "      <td>-0.000305</td>\n",
       "      <td>-0.002365</td>\n",
       "      <td>-0.003128</td>\n",
       "      <td>24.4</td>\n",
       "      <td>0.0</td>\n",
       "    </tr>\n",
       "    <tr>\n",
       "      <th>188</th>\n",
       "      <td>0.001984</td>\n",
       "      <td>0.002518</td>\n",
       "      <td>0.003891</td>\n",
       "      <td>0.004120</td>\n",
       "      <td>0.002213</td>\n",
       "      <td>-0.000153</td>\n",
       "      <td>-0.001144</td>\n",
       "      <td>0.000000</td>\n",
       "      <td>0.001831</td>\n",
       "      <td>0.003128</td>\n",
       "      <td>...</td>\n",
       "      <td>-0.003967</td>\n",
       "      <td>-0.005188</td>\n",
       "      <td>-0.006332</td>\n",
       "      <td>-0.006104</td>\n",
       "      <td>-0.004578</td>\n",
       "      <td>-0.002976</td>\n",
       "      <td>-0.003052</td>\n",
       "      <td>-0.004578</td>\n",
       "      <td>31.7</td>\n",
       "      <td>0.0</td>\n",
       "    </tr>\n",
       "    <tr>\n",
       "      <th>12</th>\n",
       "      <td>0.003204</td>\n",
       "      <td>0.003433</td>\n",
       "      <td>0.003510</td>\n",
       "      <td>0.002441</td>\n",
       "      <td>0.001144</td>\n",
       "      <td>0.000687</td>\n",
       "      <td>0.000992</td>\n",
       "      <td>0.001526</td>\n",
       "      <td>0.001984</td>\n",
       "      <td>0.002594</td>\n",
       "      <td>...</td>\n",
       "      <td>0.005722</td>\n",
       "      <td>0.005188</td>\n",
       "      <td>0.005264</td>\n",
       "      <td>0.006409</td>\n",
       "      <td>0.007553</td>\n",
       "      <td>0.007553</td>\n",
       "      <td>0.006485</td>\n",
       "      <td>0.005722</td>\n",
       "      <td>32.0</td>\n",
       "      <td>0.0</td>\n",
       "    </tr>\n",
       "    <tr>\n",
       "      <th>219</th>\n",
       "      <td>-0.000992</td>\n",
       "      <td>-0.002365</td>\n",
       "      <td>-0.003128</td>\n",
       "      <td>-0.002670</td>\n",
       "      <td>-0.002213</td>\n",
       "      <td>-0.003510</td>\n",
       "      <td>-0.006790</td>\n",
       "      <td>-0.009537</td>\n",
       "      <td>-0.009308</td>\n",
       "      <td>-0.007019</td>\n",
       "      <td>...</td>\n",
       "      <td>0.019379</td>\n",
       "      <td>0.020752</td>\n",
       "      <td>0.021592</td>\n",
       "      <td>0.021439</td>\n",
       "      <td>0.021057</td>\n",
       "      <td>0.021897</td>\n",
       "      <td>0.023957</td>\n",
       "      <td>0.025330</td>\n",
       "      <td>22.1</td>\n",
       "      <td>0.0</td>\n",
       "    </tr>\n",
       "    <tr>\n",
       "      <th>237</th>\n",
       "      <td>-0.012741</td>\n",
       "      <td>-0.011673</td>\n",
       "      <td>-0.010758</td>\n",
       "      <td>-0.012970</td>\n",
       "      <td>-0.017624</td>\n",
       "      <td>-0.020829</td>\n",
       "      <td>-0.020066</td>\n",
       "      <td>-0.016480</td>\n",
       "      <td>-0.013352</td>\n",
       "      <td>-0.012055</td>\n",
       "      <td>...</td>\n",
       "      <td>0.011749</td>\n",
       "      <td>0.011215</td>\n",
       "      <td>0.010986</td>\n",
       "      <td>0.009689</td>\n",
       "      <td>0.007477</td>\n",
       "      <td>0.006638</td>\n",
       "      <td>0.008469</td>\n",
       "      <td>0.010681</td>\n",
       "      <td>23.4</td>\n",
       "      <td>0.0</td>\n",
       "    </tr>\n",
       "  </tbody>\n",
       "</table>\n",
       "<p>5 rows × 24002 columns</p>\n",
       "</div>"
      ],
      "text/plain": [
       "        0         1         2         3         4         5         6      \\\n",
       "206 -0.001755 -0.002441 -0.002518 -0.001297  0.000916  0.002594  0.002213   \n",
       "188  0.001984  0.002518  0.003891  0.004120  0.002213 -0.000153 -0.001144   \n",
       "12   0.003204  0.003433  0.003510  0.002441  0.001144  0.000687  0.000992   \n",
       "219 -0.000992 -0.002365 -0.003128 -0.002670 -0.002213 -0.003510 -0.006790   \n",
       "237 -0.012741 -0.011673 -0.010758 -0.012970 -0.017624 -0.020829 -0.020066   \n",
       "\n",
       "        7         8         9      ...     23992     23993     23994  \\\n",
       "206  0.000687  0.000000  0.001297  ...  0.000381  0.000610  0.002518   \n",
       "188  0.000000  0.001831  0.003128  ... -0.003967 -0.005188 -0.006332   \n",
       "12   0.001526  0.001984  0.002594  ...  0.005722  0.005188  0.005264   \n",
       "219 -0.009537 -0.009308 -0.007019  ...  0.019379  0.020752  0.021592   \n",
       "237 -0.016480 -0.013352 -0.012055  ...  0.011749  0.011215  0.010986   \n",
       "\n",
       "        23995     23996     23997     23998     23999  24000  24001  \n",
       "206  0.003738  0.002441 -0.000305 -0.002365 -0.003128   24.4    0.0  \n",
       "188 -0.006104 -0.004578 -0.002976 -0.003052 -0.004578   31.7    0.0  \n",
       "12   0.006409  0.007553  0.007553  0.006485  0.005722   32.0    0.0  \n",
       "219  0.021439  0.021057  0.021897  0.023957  0.025330   22.1    0.0  \n",
       "237  0.009689  0.007477  0.006638  0.008469  0.010681   23.4    0.0  \n",
       "\n",
       "[5 rows x 24002 columns]"
      ]
     },
     "execution_count": 38,
     "metadata": {},
     "output_type": "execute_result"
    }
   ],
   "source": [
    "dft = X_test.merge(y_test, how='outer', left_index=True, right_index=True)\n",
    "dft.head()"
   ]
  },
  {
   "cell_type": "code",
   "execution_count": null,
   "metadata": {},
   "outputs": [],
   "source": []
  },
  {
   "cell_type": "code",
   "execution_count": null,
   "metadata": {},
   "outputs": [],
   "source": []
  },
  {
   "cell_type": "code",
   "execution_count": null,
   "metadata": {},
   "outputs": [],
   "source": []
  },
  {
   "cell_type": "code",
   "execution_count": null,
   "metadata": {},
   "outputs": [],
   "source": []
  },
  {
   "cell_type": "code",
   "execution_count": null,
   "metadata": {},
   "outputs": [],
   "source": []
  },
  {
   "cell_type": "code",
   "execution_count": null,
   "metadata": {},
   "outputs": [],
   "source": []
  },
  {
   "cell_type": "code",
   "execution_count": null,
   "metadata": {},
   "outputs": [],
   "source": []
  },
  {
   "cell_type": "code",
   "execution_count": 11,
   "metadata": {},
   "outputs": [],
   "source": [
    "#sns.set_style('whitegrid')\n",
    "#cmap = sns.cubehelix_palette(light=1, as_cmap=True)\n",
    "#sns.countplot(x=24001,data=dfi,palette=\"PuBu\")"
   ]
  },
  {
   "cell_type": "code",
   "execution_count": 16,
   "metadata": {},
   "outputs": [],
   "source": [
    "#sns.set_style('whitegrid')\n",
    "#dall = pd.concat([df_test,df_train])\n",
    "#dall.head()\n",
    "#sns.countplot(x='label',data=df_train,palette=\"PuBu\")\n"
   ]
  },
  {
   "cell_type": "markdown",
   "metadata": {},
   "source": [
    "Put the training data in a format to be fed to feature extraction code block; then the test data"
   ]
  },
  {
   "cell_type": "code",
   "execution_count": 76,
   "metadata": {},
   "outputs": [
    {
     "data": {
      "text/html": [
       "<div>\n",
       "<style scoped>\n",
       "    .dataframe tbody tr th:only-of-type {\n",
       "        vertical-align: middle;\n",
       "    }\n",
       "\n",
       "    .dataframe tbody tr th {\n",
       "        vertical-align: top;\n",
       "    }\n",
       "\n",
       "    .dataframe thead th {\n",
       "        text-align: right;\n",
       "    }\n",
       "</style>\n",
       "<table border=\"1\" class=\"dataframe\">\n",
       "  <thead>\n",
       "    <tr style=\"text-align: right;\">\n",
       "      <th></th>\n",
       "      <th>0</th>\n",
       "      <th>1</th>\n",
       "      <th>2</th>\n",
       "      <th>3</th>\n",
       "      <th>4</th>\n",
       "      <th>5</th>\n",
       "      <th>6</th>\n",
       "      <th>7</th>\n",
       "      <th>8</th>\n",
       "      <th>9</th>\n",
       "      <th>...</th>\n",
       "      <th>23992</th>\n",
       "      <th>23993</th>\n",
       "      <th>23994</th>\n",
       "      <th>23995</th>\n",
       "      <th>23996</th>\n",
       "      <th>23997</th>\n",
       "      <th>23998</th>\n",
       "      <th>23999</th>\n",
       "      <th>24000</th>\n",
       "      <th>label</th>\n",
       "    </tr>\n",
       "  </thead>\n",
       "  <tbody>\n",
       "    <tr>\n",
       "      <th>0</th>\n",
       "      <td>0.005417</td>\n",
       "      <td>0.007095</td>\n",
       "      <td>0.006485</td>\n",
       "      <td>0.004730</td>\n",
       "      <td>0.003738</td>\n",
       "      <td>0.003891</td>\n",
       "      <td>0.003967</td>\n",
       "      <td>0.003052</td>\n",
       "      <td>0.001984</td>\n",
       "      <td>0.001907</td>\n",
       "      <td>...</td>\n",
       "      <td>-0.002213</td>\n",
       "      <td>-0.000534</td>\n",
       "      <td>0.000534</td>\n",
       "      <td>0.000076</td>\n",
       "      <td>-0.001678</td>\n",
       "      <td>-0.003510</td>\n",
       "      <td>-0.003967</td>\n",
       "      <td>-0.003204</td>\n",
       "      <td>21.7</td>\n",
       "      <td>0.0</td>\n",
       "    </tr>\n",
       "    <tr>\n",
       "      <th>1</th>\n",
       "      <td>-0.009384</td>\n",
       "      <td>-0.003738</td>\n",
       "      <td>0.000687</td>\n",
       "      <td>0.001526</td>\n",
       "      <td>0.001068</td>\n",
       "      <td>0.002518</td>\n",
       "      <td>0.005341</td>\n",
       "      <td>0.005646</td>\n",
       "      <td>0.001221</td>\n",
       "      <td>-0.005951</td>\n",
       "      <td>...</td>\n",
       "      <td>-0.048295</td>\n",
       "      <td>-0.046006</td>\n",
       "      <td>-0.044480</td>\n",
       "      <td>-0.046006</td>\n",
       "      <td>-0.048295</td>\n",
       "      <td>-0.048066</td>\n",
       "      <td>-0.044556</td>\n",
       "      <td>-0.040208</td>\n",
       "      <td>22.9</td>\n",
       "      <td>0.0</td>\n",
       "    </tr>\n",
       "  </tbody>\n",
       "</table>\n",
       "<p>2 rows × 24002 columns</p>\n",
       "</div>"
      ],
      "text/plain": [
       "          0         1         2         3         4         5         6  \\\n",
       "0  0.005417  0.007095  0.006485  0.004730  0.003738  0.003891  0.003967   \n",
       "1 -0.009384 -0.003738  0.000687  0.001526  0.001068  0.002518  0.005341   \n",
       "\n",
       "          7         8         9  ...     23992     23993     23994     23995  \\\n",
       "0  0.003052  0.001984  0.001907  ... -0.002213 -0.000534  0.000534  0.000076   \n",
       "1  0.005646  0.001221 -0.005951  ... -0.048295 -0.046006 -0.044480 -0.046006   \n",
       "\n",
       "      23996     23997     23998     23999  24000  label  \n",
       "0 -0.001678 -0.003510 -0.003967 -0.003204   21.7    0.0  \n",
       "1 -0.048295 -0.048066 -0.044556 -0.040208   22.9    0.0  \n",
       "\n",
       "[2 rows x 24002 columns]"
      ]
     },
     "execution_count": 76,
     "metadata": {},
     "output_type": "execute_result"
    }
   ],
   "source": [
    "df_train = X_train_res\n",
    "df_train['label'] = y_train_res\n",
    "df_train.head(2)"
   ]
  },
  {
   "cell_type": "code",
   "execution_count": 77,
   "metadata": {},
   "outputs": [
    {
     "name": "stderr",
     "output_type": "stream",
     "text": [
      "\n",
      "A value is trying to be set on a copy of a slice from a DataFrame.\n",
      "Try using .loc[row_indexer,col_indexer] = value instead\n",
      "\n",
      "See the caveats in the documentation: https://pandas.pydata.org/pandas-docs/stable/user_guide/indexing.html#returning-a-view-versus-a-copy\n"
     ]
    },
    {
     "data": {
      "text/html": [
       "<div>\n",
       "<style scoped>\n",
       "    .dataframe tbody tr th:only-of-type {\n",
       "        vertical-align: middle;\n",
       "    }\n",
       "\n",
       "    .dataframe tbody tr th {\n",
       "        vertical-align: top;\n",
       "    }\n",
       "\n",
       "    .dataframe thead th {\n",
       "        text-align: right;\n",
       "    }\n",
       "</style>\n",
       "<table border=\"1\" class=\"dataframe\">\n",
       "  <thead>\n",
       "    <tr style=\"text-align: right;\">\n",
       "      <th></th>\n",
       "      <th>0</th>\n",
       "      <th>1</th>\n",
       "      <th>2</th>\n",
       "      <th>3</th>\n",
       "      <th>4</th>\n",
       "      <th>5</th>\n",
       "      <th>6</th>\n",
       "      <th>7</th>\n",
       "      <th>8</th>\n",
       "      <th>9</th>\n",
       "      <th>...</th>\n",
       "      <th>23992</th>\n",
       "      <th>23993</th>\n",
       "      <th>23994</th>\n",
       "      <th>23995</th>\n",
       "      <th>23996</th>\n",
       "      <th>23997</th>\n",
       "      <th>23998</th>\n",
       "      <th>23999</th>\n",
       "      <th>24000</th>\n",
       "      <th>label</th>\n",
       "    </tr>\n",
       "  </thead>\n",
       "  <tbody>\n",
       "    <tr>\n",
       "      <th>206</th>\n",
       "      <td>-0.001755</td>\n",
       "      <td>-0.002441</td>\n",
       "      <td>-0.002518</td>\n",
       "      <td>-0.001297</td>\n",
       "      <td>0.000916</td>\n",
       "      <td>0.002594</td>\n",
       "      <td>0.002213</td>\n",
       "      <td>0.000687</td>\n",
       "      <td>0.000000</td>\n",
       "      <td>0.001297</td>\n",
       "      <td>...</td>\n",
       "      <td>0.000381</td>\n",
       "      <td>0.000610</td>\n",
       "      <td>0.002518</td>\n",
       "      <td>0.003738</td>\n",
       "      <td>0.002441</td>\n",
       "      <td>-0.000305</td>\n",
       "      <td>-0.002365</td>\n",
       "      <td>-0.003128</td>\n",
       "      <td>24.4</td>\n",
       "      <td>0.0</td>\n",
       "    </tr>\n",
       "    <tr>\n",
       "      <th>188</th>\n",
       "      <td>0.001984</td>\n",
       "      <td>0.002518</td>\n",
       "      <td>0.003891</td>\n",
       "      <td>0.004120</td>\n",
       "      <td>0.002213</td>\n",
       "      <td>-0.000153</td>\n",
       "      <td>-0.001144</td>\n",
       "      <td>0.000000</td>\n",
       "      <td>0.001831</td>\n",
       "      <td>0.003128</td>\n",
       "      <td>...</td>\n",
       "      <td>-0.003967</td>\n",
       "      <td>-0.005188</td>\n",
       "      <td>-0.006332</td>\n",
       "      <td>-0.006104</td>\n",
       "      <td>-0.004578</td>\n",
       "      <td>-0.002976</td>\n",
       "      <td>-0.003052</td>\n",
       "      <td>-0.004578</td>\n",
       "      <td>31.7</td>\n",
       "      <td>0.0</td>\n",
       "    </tr>\n",
       "  </tbody>\n",
       "</table>\n",
       "<p>2 rows × 24002 columns</p>\n",
       "</div>"
      ],
      "text/plain": [
       "            0         1         2         3         4         5         6  \\\n",
       "206 -0.001755 -0.002441 -0.002518 -0.001297  0.000916  0.002594  0.002213   \n",
       "188  0.001984  0.002518  0.003891  0.004120  0.002213 -0.000153 -0.001144   \n",
       "\n",
       "            7         8         9  ...     23992     23993     23994  \\\n",
       "206  0.000687  0.000000  0.001297  ...  0.000381  0.000610  0.002518   \n",
       "188  0.000000  0.001831  0.003128  ... -0.003967 -0.005188 -0.006332   \n",
       "\n",
       "        23995     23996     23997     23998     23999  24000  label  \n",
       "206  0.003738  0.002441 -0.000305 -0.002365 -0.003128   24.4    0.0  \n",
       "188 -0.006104 -0.004578 -0.002976 -0.003052 -0.004578   31.7    0.0  \n",
       "\n",
       "[2 rows x 24002 columns]"
      ]
     },
     "execution_count": 77,
     "metadata": {},
     "output_type": "execute_result"
    }
   ],
   "source": [
    "df_test = X_test\n",
    "dtemp = pd.DataFrame(y_test)\n",
    "df_test['label'] = dtemp.loc[:]\n",
    "#df_test['label'] = dtemp.loc[:,(24000)]\n",
    "df_test.head(2)\n",
    "#dtemp.head()\n",
    "# df_test = X_test_res\n",
    "# df_test['label'] = y_test_res\n",
    "# df_test.head(2)"
   ]
  },
  {
   "cell_type": "markdown",
   "metadata": {},
   "source": [
    "## Extract features from training set"
   ]
  },
  {
   "cell_type": "code",
   "execution_count": 78,
   "metadata": {},
   "outputs": [],
   "source": [
    "fs = 20\n",
    "f_s = 20\n",
    "dt = 1/f_s\n",
    "t_n = 1200\n",
    "sample_rate = 1 / f_s\n",
    "denominator = 10\n",
    "list_of_features = []\n",
    "percentile = 10\n",
    "\n",
    "df_c = pd.DataFrame(columns='c1 c2 c3 OutlierInt c5 1_over_e_Crossing 1st_Min_AC c8 FPS_centroid c10 TRS c12 AMImin1 Sdiff1 Sdiff2 PermutationEntropy CorrelationLengthChange c18 PropFluc1 PropFluc2 c21 Periodicity'.split())\n",
    "df_p = pd.DataFrame(columns='Rectime label mu sigma medfreq Entropy 0 1 2 3 4 5 6 FT3f 8 9 10 11 12 13 14 15 16 17 18 19 PSD5A 21 22 23 AC4f AC5f 26 AC2A 28 29 Amplitude5thPeak 31'.split())\n",
    "\n",
    "#for index, row in df_train.iterrows():\n",
    "for index, row in df_train.iterrows():\n",
    "    \n",
    "    #print(catch22_all(row)['values'])\n",
    "    signals = row.drop([24000,'label'])\n",
    "    #print(row['label'])\n",
    "    for z in range(0,20):\n",
    "        features = []\n",
    "        sig = signals[1200*z:(1200*z+1200)]\n",
    "        \n",
    "        #use catch22 to get features\n",
    "        #channel 9\n",
    "        s_c = pd.Series(catch22_all(sig)['values'],index=df_c.columns)            \n",
    "        df_c = df_c.append(s_c, ignore_index=True)\n",
    "        \n",
    "        #entropy\n",
    "        entropy = entropy2(sig,base=None)\n",
    "        #entropy = entropy2(imf0, base=None)\n",
    "        (mu, sigma) = norm.fit(sig)\n",
    "        N = len(sig)\n",
    "        T = t_n / N\n",
    "\n",
    "        f_values, fft_values = get_fft_values(sig.to_numpy(), T, N, f_s)\n",
    "        f_valuesp, psd_values = get_psd_values(sig, T, N, f_s)\n",
    "        t_values, autocorr_values = get_autocorr_values(sig, T, N, f_s)\n",
    "            \n",
    "        k=0\n",
    "        power2=0\n",
    "        while power2 < np.cumsum(psd_values)[-1]/2:\n",
    "            k+=1\n",
    "            power2 = np.cumsum(psd_values)[k]\n",
    "        medfreq2 = f_valuesp[k]\n",
    "\n",
    "\n",
    "        signal_min = np.nanpercentile(fft_values, percentile)\n",
    "        signal_max = np.nanpercentile(fft_values, 100-percentile)\n",
    "        mph = signal_min + (signal_max - signal_min)/denominator\n",
    "\n",
    "        signal_min1 = np.nanpercentile(psd_values, percentile)\n",
    "        signal_max1 = np.nanpercentile(psd_values, 100-percentile)\n",
    "        mph1 = signal_min1 + (signal_max1 - signal_min1)/denominator\n",
    "\n",
    "        signal_min2 = np.nanpercentile(autocorr_values, percentile)\n",
    "        signal_max2 = np.nanpercentile(autocorr_values, 100-percentile)\n",
    "        mph2 = signal_min2 + (signal_max2 - signal_min2)/denominator\n",
    "\n",
    "        features += [row[24000],row['label']] #row[24000]\n",
    "        features += [mu,sigma,medfreq2,entropy]\n",
    "        features += get_features(f_values, fft_values, mph)\n",
    "        features += get_features(f_valuesp, psd_values, mph1)\n",
    "        features += get_features(t_values, autocorr_values, mph2) \n",
    "        features += [np.sum(f_values*fft_values)/np.sum(f_values)]\n",
    "        features += [np.sum(np.abs(f_values) ** 2) / N]\n",
    "\n",
    "        s_p = pd.Series(np.array(features),index=df_p.columns)\n",
    "        df_p = df_p.append(s_p, ignore_index=True)\n",
    "        #list_of_features.append(features)\n",
    "        #feat_array = np.array(list_of_features)"
   ]
  },
  {
   "cell_type": "code",
   "execution_count": 79,
   "metadata": {},
   "outputs": [],
   "source": [
    "d_train = df_p.merge(df_c, how='outer', left_index=True, right_index=True)"
   ]
  },
  {
   "cell_type": "markdown",
   "metadata": {},
   "source": [
    "## Extract features from test set"
   ]
  },
  {
   "cell_type": "code",
   "execution_count": 80,
   "metadata": {},
   "outputs": [],
   "source": [
    "fs = 20\n",
    "f_s = 20\n",
    "dt = 1/f_s\n",
    "t_n = 1200\n",
    "sample_rate = 1 / f_s\n",
    "denominator = 10\n",
    "list_of_features = []\n",
    "percentile = 10\n",
    "\n",
    "df_c2 = pd.DataFrame(columns='c1 c2 c3 OutlierInt c5 1_over_e_Crossing 1st_Min_AC c8 FPS_centroid c10 TRS c12 AMImin1 Sdiff1 Sdiff2 PermutationEntropy CorrelationLengthChange c18 PropFluc1 PropFluc2 c21 Periodicity'.split())\n",
    "df_p2 = pd.DataFrame(columns='Rectime label mu sigma medfreq Entropy 0 1 2 3 4 5 6 FT3f 8 9 10 11 12 13 14 15 16 17 18 19 PSD5A 21 22 23 AC4f AC5f 26 AC2A 28 29 Amplitude5thPeak 31'.split())\n",
    "\n",
    "for index, row in df_test.iterrows():\n",
    "    \n",
    "    #print(catch22_all(row)['values'])\n",
    "    signals = row.drop([24000,'label'])\n",
    "    #print(row['label'])\n",
    "    for z in range(0,20):\n",
    "        features = []\n",
    "        sig = signals[1200*z:(1200*z+1200)]\n",
    "        \n",
    "        #use catch22 to get features\n",
    "        #channel 9\n",
    "        s_c2 = pd.Series(catch22_all(sig)['values'],index=df_c2.columns)            \n",
    "        df_c2 = df_c2.append(s_c2, ignore_index=True)\n",
    "        \n",
    "        #entropy\n",
    "        entropy = entropy2(sig,base=None)\n",
    "        #entropy = entropy2(imf0, base=None)\n",
    "        (mu, sigma) = norm.fit(sig)\n",
    "        N = len(sig)\n",
    "        T = t_n / N\n",
    "\n",
    "        f_values, fft_values = get_fft_values(sig.to_numpy(), T, N, f_s)\n",
    "        f_valuesp, psd_values = get_psd_values(sig, T, N, f_s)\n",
    "        t_values, autocorr_values = get_autocorr_values(sig, T, N, f_s)\n",
    "            \n",
    "        k=0\n",
    "        power2=0\n",
    "        while power2 < np.cumsum(psd_values)[-1]/2:\n",
    "            k+=1\n",
    "            power2 = np.cumsum(psd_values)[k]\n",
    "        medfreq2 = f_valuesp[k]\n",
    "\n",
    "\n",
    "        signal_min = np.nanpercentile(fft_values, percentile)\n",
    "        signal_max = np.nanpercentile(fft_values, 100-percentile)\n",
    "        mph = signal_min + (signal_max - signal_min)/denominator\n",
    "\n",
    "        signal_min1 = np.nanpercentile(psd_values, percentile)\n",
    "        signal_max1 = np.nanpercentile(psd_values, 100-percentile)\n",
    "        mph1 = signal_min1 + (signal_max1 - signal_min1)/denominator\n",
    "\n",
    "        signal_min2 = np.nanpercentile(autocorr_values, percentile)\n",
    "        signal_max2 = np.nanpercentile(autocorr_values, 100-percentile)\n",
    "        mph2 = signal_min2 + (signal_max2 - signal_min2)/denominator\n",
    "\n",
    "        features += [row[24000],row['label']]\n",
    "        features += [mu,sigma,medfreq2,entropy]\n",
    "        features += get_features(f_values, fft_values, mph)\n",
    "        features += get_features(f_valuesp, psd_values, mph1)\n",
    "        features += get_features(t_values, autocorr_values, mph2) \n",
    "        features += [np.sum(f_values*fft_values)/np.sum(f_values)]\n",
    "        features += [np.sum(np.abs(f_values) ** 2) / N]\n",
    "\n",
    "        s_p2 = pd.Series(np.array(features),index=df_p2.columns)\n",
    "        df_p2 = df_p2.append(s_p2, ignore_index=True)\n",
    "        #list_of_features.append(features)\n",
    "        #feat_array = np.array(list_of_features)"
   ]
  },
  {
   "cell_type": "code",
   "execution_count": 81,
   "metadata": {},
   "outputs": [],
   "source": [
    "d_test = df_p2.merge(df_c2, how='outer', left_index=True, right_index=True)"
   ]
  },
  {
   "cell_type": "code",
   "execution_count": null,
   "metadata": {},
   "outputs": [],
   "source": [
    "\n"
   ]
  },
  {
   "cell_type": "markdown",
   "metadata": {},
   "source": [
    "## Classifiers"
   ]
  },
  {
   "cell_type": "code",
   "execution_count": 82,
   "metadata": {},
   "outputs": [],
   "source": [
    "X_train = d_train.drop(['label'],axis=1)\n",
    "#X_train = d_train[['Entropy','Rectime','CorrelationLengthChange','PermutationEntropy','sigma','Periodicity','15','17',\\\n",
    "#  'Amplitude5thPeak','c18','1st_Min_AC','c5','18','PSD5A','c10','21','26','AC5f','OutlierInt','29'\n",
    "# ]]\n",
    "#X_train = d_train[['sigma','mu','OutlierInt', 'c5', '1_over_e_Crossing', '1st_Min_AC', 'c8', 'FPS_centroid','c10', 'TRS', 'c12', 'AMImin1', 'Sdiff1', 'Sdiff2', 'PermutationEntropy','CorrelationLengthChange', 'c18', 'PropFluc1', 'PropFluc2', 'c21', 'Periodicity','Entropy','FT3f','PSD5A','AC4f', 'AC5f',  'AC2A', 'Amplitude5thPeak','16','29']]\n",
    "# X_train = d_train[['mu', 'sigma','Entropy',\n",
    "#        '5', '6', 'FT3f', '8', '9', '13', '14', '15', '16',\n",
    "#        '17', '18', '19', 'PSD5A', '21', '22', '23', 'AC4f', 'AC5f', '26',\n",
    "#        'AC2A', '28', '29', 'Amplitude5thPeak', 'c1', 'c2', 'c3',\n",
    "#        'OutlierInt', 'c5', '1_over_e_Crossing', '1st_Min_AC', 'c8',\n",
    "#        'FPS_centroid', 'c10', 'TRS', 'c12', 'AMImin1', 'Sdiff1', 'Sdiff2',\n",
    "#        'PermutationEntropy', 'CorrelationLengthChange', 'c18', 'PropFluc1',\n",
    "#        'PropFluc2','Periodicity']]\n",
    "y_train = d_train['label']\n",
    "\n",
    "X_test = d_test.drop(['label'],axis=1)\n",
    "# X_test = d_test[['Entropy','Rectime','CorrelationLengthChange','PermutationEntropy','sigma','Periodicity','15','17',\\\n",
    "#   'Amplitude5thPeak','c18','1st_Min_AC','c5','18','PSD5A','c10','21','26','AC5f','OutlierInt','29'\n",
    "#  ]]\n",
    "#X_test = d_test[['sigma','mu','OutlierInt', 'c5', '1_over_e_Crossing', '1st_Min_AC', 'c8', 'FPS_centroid','c10', 'TRS', 'c12', 'AMImin1', 'Sdiff1', 'Sdiff2', 'PermutationEntropy','CorrelationLengthChange', 'c18', 'PropFluc1', 'PropFluc2', 'c21', 'Periodicity','Entropy','FT3f','PSD5A','AC4f', 'AC5f',  'AC2A', 'Amplitude5thPeak','16','29']]\n",
    "# X_test = d_test[['mu', 'sigma','Entropy',\n",
    "#        '5', '6', 'FT3f', '8', '9', '13', '14', '15', '16',\n",
    "#        '17', '18', '19', 'PSD5A', '21', '22', '23', 'AC4f', 'AC5f', '26',\n",
    "#        'AC2A', '28', '29', 'Amplitude5thPeak', 'c1', 'c2', 'c3',\n",
    "#        'OutlierInt', 'c5', '1_over_e_Crossing', '1st_Min_AC', 'c8',\n",
    "#        'FPS_centroid', 'c10', 'TRS', 'c12', 'AMImin1', 'Sdiff1', 'Sdiff2',\n",
    "#        'PermutationEntropy', 'CorrelationLengthChange', 'c18', 'PropFluc1',\n",
    "#        'PropFluc2','Periodicity']]\n",
    "y_test = d_test['label']"
   ]
  },
  {
   "cell_type": "code",
   "execution_count": 27,
   "metadata": {},
   "outputs": [],
   "source": [
    "from sklearn.neighbors import KNeighborsClassifier\n",
    "from sklearn.linear_model import LogisticRegression\n",
    "from sklearn.ensemble import RandomForestClassifier\n",
    "from sklearn.naive_bayes import GaussianNB\n",
    "\n",
    "from sklearn.model_selection import train_test_split\n",
    "\n",
    "from sklearn.metrics import confusion_matrix,classification_report,f1_score,accuracy_score"
   ]
  },
  {
   "cell_type": "code",
   "execution_count": null,
   "metadata": {},
   "outputs": [],
   "source": []
  },
  {
   "cell_type": "code",
   "execution_count": null,
   "metadata": {},
   "outputs": [],
   "source": []
  },
  {
   "cell_type": "code",
   "execution_count": null,
   "metadata": {},
   "outputs": [],
   "source": []
  },
  {
   "cell_type": "code",
   "execution_count": null,
   "metadata": {},
   "outputs": [],
   "source": []
  },
  {
   "cell_type": "code",
   "execution_count": null,
   "metadata": {},
   "outputs": [],
   "source": []
  },
  {
   "cell_type": "markdown",
   "metadata": {},
   "source": [
    "## XGBoost: HP tuning"
   ]
  },
  {
   "cell_type": "markdown",
   "metadata": {},
   "source": [
    "Code from this section copied from Zhanna Hakhverdyan (zhakhverdyan/eICU_AKIlert) "
   ]
  },
  {
   "cell_type": "code",
   "execution_count": null,
   "metadata": {},
   "outputs": [],
   "source": []
  },
  {
   "cell_type": "code",
   "execution_count": null,
   "metadata": {},
   "outputs": [],
   "source": []
  },
  {
   "cell_type": "code",
   "execution_count": null,
   "metadata": {},
   "outputs": [],
   "source": []
  },
  {
   "cell_type": "code",
   "execution_count": null,
   "metadata": {},
   "outputs": [],
   "source": []
  },
  {
   "cell_type": "code",
   "execution_count": null,
   "metadata": {},
   "outputs": [],
   "source": []
  },
  {
   "cell_type": "code",
   "execution_count": null,
   "metadata": {},
   "outputs": [],
   "source": []
  },
  {
   "cell_type": "code",
   "execution_count": null,
   "metadata": {},
   "outputs": [],
   "source": []
  },
  {
   "cell_type": "code",
   "execution_count": null,
   "metadata": {},
   "outputs": [],
   "source": []
  },
  {
   "cell_type": "code",
   "execution_count": 83,
   "metadata": {},
   "outputs": [
    {
     "name": "stdout",
     "output_type": "stream",
     "text": [
      "Fitting 3 folds for each of 100 candidates, totalling 300 fits\n"
     ]
    },
    {
     "name": "stderr",
     "output_type": "stream",
     "text": [
      "[Parallel(n_jobs=-1)]: Using backend LokyBackend with 4 concurrent workers.\n",
      "[Parallel(n_jobs=-1)]: Done  42 tasks      | elapsed:  1.4min\n",
      "[Parallel(n_jobs=-1)]: Done 192 tasks      | elapsed:  4.7min\n",
      "[Parallel(n_jobs=-1)]: Done 300 out of 300 | elapsed:  6.9min finished\n"
     ]
    }
   ],
   "source": [
    "from sklearn.model_selection import RandomizedSearchCV\n",
    "from sklearn.metrics import average_precision_score, make_scorer\n",
    "\n",
    "random_state=101\n",
    "xgbrf = xgb.XGBRFClassifier(scale_pos_weight=7, objective='binary:logistic', \\\n",
    "                         eval_metric=['aucpr'], \\\n",
    "                             random_state=random_state, boosting_rounds=50, early_stopping_rounds=10)\n",
    "\n",
    "\n",
    "# Define our search space for grid search\n",
    "search_space = [\n",
    "  {\n",
    "      'n_estimators' : [50, 100, 200, 400],\n",
    "      'min_split_loss': range(1, 10),\n",
    "    'learning_rate': [0.01, 0.05, 0.1, 0.2, 0.3, 0.5, 1],\n",
    "    'max_depth': range(3, 12),\n",
    "      'min_child_weight': range(1, 10),\n",
    "      'max_delta_step': range(0,11),\n",
    "      'subsample': [0.5, 0.75, 1],\n",
    "      'colsample_bytree':[0.5, 0.75, 1], \n",
    "      'colsample_bylevel':[0.5, 0.75, 1], \n",
    "      'colsample_bynode':[0.5, 0.75, 1],\n",
    "    'reg_lambda': np.logspace(0, 2, num=3),\n",
    "      'reg_alpha': [0, 0.1, 0.5, 1],\n",
    "      'gamma': [i/10.0 for i in range(5)]\n",
    "  }\n",
    "]\n",
    "\n",
    "# AUC and average precision as score\n",
    "scoring = {'AUC':'roc_auc', 'Average precision':make_scorer(average_precision_score)}\n",
    "# Define grid search\n",
    "gridrf = RandomizedSearchCV(\n",
    "                          xgbrf,\n",
    "                          search_space,\n",
    "                          cv=3,\n",
    "                          scoring=scoring,\n",
    "                          refit=False,\n",
    "                          n_iter=100,\n",
    "                          verbose=1,\n",
    "                          n_jobs=-1,\n",
    "                          return_train_score=True\n",
    ")\n",
    "# Fit grid search\n",
    "modelrf = gridrf.fit(X_train, y_train)"
   ]
  },
  {
   "cell_type": "code",
   "execution_count": 84,
   "metadata": {},
   "outputs": [
    {
     "data": {
      "text/html": [
       "<div>\n",
       "<style scoped>\n",
       "    .dataframe tbody tr th:only-of-type {\n",
       "        vertical-align: middle;\n",
       "    }\n",
       "\n",
       "    .dataframe tbody tr th {\n",
       "        vertical-align: top;\n",
       "    }\n",
       "\n",
       "    .dataframe thead th {\n",
       "        text-align: right;\n",
       "    }\n",
       "</style>\n",
       "<table border=\"1\" class=\"dataframe\">\n",
       "  <thead>\n",
       "    <tr style=\"text-align: right;\">\n",
       "      <th></th>\n",
       "      <th>mean_test_AUC</th>\n",
       "      <th>mean_train_AUC</th>\n",
       "      <th>mean_test_Average precision</th>\n",
       "      <th>mean_train_Average precision</th>\n",
       "    </tr>\n",
       "  </thead>\n",
       "  <tbody>\n",
       "    <tr>\n",
       "      <th>3</th>\n",
       "      <td>0.909304</td>\n",
       "      <td>0.994702</td>\n",
       "      <td>0.796606</td>\n",
       "      <td>0.918553</td>\n",
       "    </tr>\n",
       "    <tr>\n",
       "      <th>59</th>\n",
       "      <td>0.910323</td>\n",
       "      <td>0.995627</td>\n",
       "      <td>0.791461</td>\n",
       "      <td>0.919990</td>\n",
       "    </tr>\n",
       "    <tr>\n",
       "      <th>18</th>\n",
       "      <td>0.933665</td>\n",
       "      <td>0.990294</td>\n",
       "      <td>0.764621</td>\n",
       "      <td>0.880626</td>\n",
       "    </tr>\n",
       "    <tr>\n",
       "      <th>49</th>\n",
       "      <td>0.948408</td>\n",
       "      <td>0.997185</td>\n",
       "      <td>0.762021</td>\n",
       "      <td>0.889814</td>\n",
       "    </tr>\n",
       "    <tr>\n",
       "      <th>94</th>\n",
       "      <td>0.935790</td>\n",
       "      <td>0.994496</td>\n",
       "      <td>0.748569</td>\n",
       "      <td>0.859440</td>\n",
       "    </tr>\n",
       "    <tr>\n",
       "      <th>...</th>\n",
       "      <td>...</td>\n",
       "      <td>...</td>\n",
       "      <td>...</td>\n",
       "      <td>...</td>\n",
       "    </tr>\n",
       "    <tr>\n",
       "      <th>89</th>\n",
       "      <td>0.960911</td>\n",
       "      <td>0.970376</td>\n",
       "      <td>0.546284</td>\n",
       "      <td>0.550517</td>\n",
       "    </tr>\n",
       "    <tr>\n",
       "      <th>5</th>\n",
       "      <td>0.961780</td>\n",
       "      <td>0.968211</td>\n",
       "      <td>0.543505</td>\n",
       "      <td>0.548342</td>\n",
       "    </tr>\n",
       "    <tr>\n",
       "      <th>71</th>\n",
       "      <td>0.954960</td>\n",
       "      <td>0.976586</td>\n",
       "      <td>0.534694</td>\n",
       "      <td>0.540901</td>\n",
       "    </tr>\n",
       "    <tr>\n",
       "      <th>93</th>\n",
       "      <td>0.948943</td>\n",
       "      <td>0.964603</td>\n",
       "      <td>0.528930</td>\n",
       "      <td>0.531671</td>\n",
       "    </tr>\n",
       "    <tr>\n",
       "      <th>60</th>\n",
       "      <td>0.954179</td>\n",
       "      <td>0.965541</td>\n",
       "      <td>0.509558</td>\n",
       "      <td>0.515586</td>\n",
       "    </tr>\n",
       "  </tbody>\n",
       "</table>\n",
       "<p>100 rows × 4 columns</p>\n",
       "</div>"
      ],
      "text/plain": [
       "    mean_test_AUC  mean_train_AUC  mean_test_Average precision  \\\n",
       "3        0.909304        0.994702                     0.796606   \n",
       "59       0.910323        0.995627                     0.791461   \n",
       "18       0.933665        0.990294                     0.764621   \n",
       "49       0.948408        0.997185                     0.762021   \n",
       "94       0.935790        0.994496                     0.748569   \n",
       "..            ...             ...                          ...   \n",
       "89       0.960911        0.970376                     0.546284   \n",
       "5        0.961780        0.968211                     0.543505   \n",
       "71       0.954960        0.976586                     0.534694   \n",
       "93       0.948943        0.964603                     0.528930   \n",
       "60       0.954179        0.965541                     0.509558   \n",
       "\n",
       "    mean_train_Average precision  \n",
       "3                       0.918553  \n",
       "59                      0.919990  \n",
       "18                      0.880626  \n",
       "49                      0.889814  \n",
       "94                      0.859440  \n",
       "..                           ...  \n",
       "89                      0.550517  \n",
       "5                       0.548342  \n",
       "71                      0.540901  \n",
       "93                      0.531671  \n",
       "60                      0.515586  \n",
       "\n",
       "[100 rows x 4 columns]"
      ]
     },
     "execution_count": 84,
     "metadata": {},
     "output_type": "execute_result"
    }
   ],
   "source": [
    "resultsrf = pd.DataFrame({'mean_test_AUC':gridrf.cv_results_['mean_test_AUC'], \\\n",
    "                        'mean_train_AUC':gridrf.cv_results_['mean_train_AUC'],\\\n",
    "                        'mean_test_Average precision':gridrf.cv_results_['mean_test_Average precision'],\\\n",
    "                        'mean_train_Average precision':gridrf.cv_results_['mean_train_Average precision']})\n",
    "resultsrf.sort_values(by='mean_test_Average precision', ascending=False)"
   ]
  },
  {
   "cell_type": "code",
   "execution_count": 85,
   "metadata": {},
   "outputs": [
    {
     "data": {
      "text/plain": [
       "{'subsample': 0.5,\n",
       " 'reg_lambda': 1.0,\n",
       " 'reg_alpha': 0.5,\n",
       " 'n_estimators': 100,\n",
       " 'min_split_loss': 8,\n",
       " 'min_child_weight': 9,\n",
       " 'max_depth': 11,\n",
       " 'max_delta_step': 10,\n",
       " 'learning_rate': 0.1,\n",
       " 'gamma': 0.3,\n",
       " 'colsample_bytree': 1,\n",
       " 'colsample_bynode': 0.75,\n",
       " 'colsample_bylevel': 0.75}"
      ]
     },
     "execution_count": 85,
     "metadata": {},
     "output_type": "execute_result"
    }
   ],
   "source": [
    "gridrf.cv_results_['params'][3]"
   ]
  },
  {
   "cell_type": "code",
   "execution_count": 86,
   "metadata": {},
   "outputs": [
    {
     "data": {
      "image/png": "[encoded data removed]",
      "text/plain": [
       "<Figure size 432x288 with 1 Axes>"
      ]
     },
     "metadata": {
      "needs_background": "light"
     },
     "output_type": "display_data"
    },
    {
     "data": {
      "text/plain": [
       "<matplotlib.axes._subplots.AxesSubplot at 0x1a475b8e90>"
      ]
     },
     "execution_count": 86,
     "metadata": {},
     "output_type": "execute_result"
    },
    {
     "data": {
      "image/png": "[encoded data removed]",
      "text/plain": [
       "<Figure size 432x288 with 1 Axes>"
      ]
     },
     "metadata": {
      "needs_background": "light"
     },
     "output_type": "display_data"
    }
   ],
   "source": [
    "import matplotlib.pyplot as plt\n",
    "resultsrf.plot.scatter(x='mean_train_Average precision', y='mean_test_Average precision')\n",
    "plt.show()\n",
    "resultsrf[['mean_train_Average precision', 'mean_test_Average precision']].plot()"
   ]
  },
  {
   "cell_type": "code",
   "execution_count": 87,
   "metadata": {},
   "outputs": [
    {
     "name": "stdout",
     "output_type": "stream",
     "text": [
      "[08:00:44] WARNING: /Users/travis/build/dmlc/xgboost/src/learner.cc:480: \n",
      "Parameters: { boosting_rounds, early_stopping_rounds } might not be used.\n",
      "\n",
      "  This may not be accurate due to some parameters are only used in language bindings but\n",
      "  passed down to XGBoost core.  Or some parameters are not used but slip through this\n",
      "  verification. Please open an issue if you find above cases.\n",
      "\n",
      "\n"
     ]
    },
    {
     "data": {
      "text/plain": [
       "XGBRFClassifier(base_score=0.5, booster='gbtree', boosting_rounds=50,\n",
       "                colsample_bylevel=0.75, colsample_bynode=0.75,\n",
       "                colsample_bytree=1, early_stopping_rounds=10,\n",
       "                eval_metric=['aucpr'], gamma=0.3, gpu_id=-1,\n",
       "                importance_type='gain', interaction_constraints='',\n",
       "                learning_rate=0.1, max_delta_step=10, max_depth=11,\n",
       "                min_child_weight=9, min_split_loss=8, missing=nan,\n",
       "                monotone_constraints='()', n_estimators=100, n_jobs=0,\n",
       "                num_parallel_tree=100, objective='binary:logistic',\n",
       "                random_state=101, reg_alpha=0.5, reg_lambda=1.0,\n",
       "                scale_pos_weight=7, subsample=0.5, tree_method='exact',\n",
       "                validate_parameters=1, ...)"
      ]
     },
     "execution_count": 87,
     "metadata": {},
     "output_type": "execute_result"
    }
   ],
   "source": [
    "params = {'subsample': 0.5,\n",
    " 'reg_lambda': 1.0,\n",
    " 'reg_alpha': 0.5,\n",
    " 'n_estimators': 100,\n",
    " 'min_split_loss': 8,\n",
    " 'min_child_weight': 9,\n",
    " 'max_depth': 11,\n",
    " 'max_delta_step': 10,\n",
    " 'learning_rate': 0.1,\n",
    " 'gamma': 0.3,\n",
    " 'colsample_bytree': 1,\n",
    " 'colsample_bynode': 0.75,\n",
    " 'colsample_bylevel': 0.75}\n",
    "\n",
    "xgbrf = xgb.XGBRFClassifier(scale_pos_weight=7, objective='binary:logistic', \\\n",
    "                         eval_metric=['aucpr'], \\\n",
    "                             random_state=random_state, boosting_rounds=50, early_stopping_rounds=10, **params)\n",
    "\n",
    "#X_train_2folds = pd.concat([fold1[columns], fold2[columns]], axis=0)\n",
    "# y_train_2folds = pd.concat([fold1['positive_window'], fold2['positive_window']], axis=0)\n",
    "\n",
    "# eval_set = [(X_val, y_val)]\n",
    "# evallist = [(X_train_2folds,y_train_2folds), (X_val, y_val)]\n",
    "\n",
    "xgbrf.fit(X_train, y_train, eval_metric='aucpr', verbose=True)"
   ]
  },
  {
   "cell_type": "code",
   "execution_count": 101,
   "metadata": {},
   "outputs": [
    {
     "data": {
      "text/plain": [
       "0.3945917968379883"
      ]
     },
     "execution_count": 101,
     "metadata": {},
     "output_type": "execute_result"
    }
   ],
   "source": [
    "y_predrf = xgbrf.predict_proba(X_test)[:,1]\n",
    "ap = average_precision_score(y_test, y_predrf)\n",
    "ap\n"
   ]
  },
  {
   "cell_type": "code",
   "execution_count": 89,
   "metadata": {},
   "outputs": [],
   "source": [
    "from matplotlib.font_manager import FontProperties\n",
    "\n",
    "font = FontProperties()\n",
    "font = FontProperties()\n",
    "font.set_family('serif')\n",
    "font.set_name('Times New Roman')\n",
    "font.set_size(16)\n"
   ]
  },
  {
   "cell_type": "code",
   "execution_count": 109,
   "metadata": {},
   "outputs": [
    {
     "name": "stdout",
     "output_type": "stream",
     "text": [
      "[[952  48]\n",
      " [151  49]]\n",
      "              precision    recall  f1-score   support\n",
      "\n",
      "         0.0       0.86      0.95      0.91      1000\n",
      "         1.0       0.51      0.24      0.33       200\n",
      "\n",
      "    accuracy                           0.83      1200\n",
      "   macro avg       0.68      0.60      0.62      1200\n",
      "weighted avg       0.80      0.83      0.81      1200\n",
      "\n",
      "0.5985\n"
     ]
    },
    {
     "data": {
      "image/png": "[encoded data removed]",
      "text/plain": [
       "<Figure size 432x288 with 1 Axes>"
      ]
     },
     "metadata": {
      "needs_background": "light"
     },
     "output_type": "display_data"
    },
    {
     "data": {
      "image/png": "[encoded data removed]",
      "text/plain": [
       "<Figure size 432x288 with 1 Axes>"
      ]
     },
     "metadata": {
      "needs_background": "light"
     },
     "output_type": "display_data"
    }
   ],
   "source": [
    "from sklearn.metrics import classification_report\n",
    "from sklearn.metrics import confusion_matrix\n",
    "from sklearn.metrics import roc_curve\n",
    "from sklearn.metrics import precision_recall_curve\n",
    "import matplotlib.pyplot as plt\n",
    "\n",
    "y_scorerf = xgbrf.predict(X_test)\n",
    "\n",
    "print(confusion_matrix(y_test,y_scorerf))\n",
    "print(classification_report(y_test,y_scorerf))\n",
    "print(roc_auc_score(y_test, y_scorerf))\n",
    "\n",
    "fpr, tpr, auc_th = roc_curve(y_test, y_predrf)\n",
    "precision, recall, pr_th = precision_recall_curve(y_test, y_predrf)\n",
    "\n",
    "plt.plot(fpr, tpr,label='XGB',color='b',linewidth=3)\n",
    "plt.plot(fpr2, tpr2, label='Logistic Regression',color='k')\n",
    "#plt.plot(fpr3, tpr3)\n",
    "plt.xlabel('False positive rate',fontsize=16,fontproperties=font)\n",
    "plt.ylabel('True positive rate',fontproperties=font)\n",
    "plt.title('ROC curve',fontproperties=font)\n",
    "plt.legend()\n",
    "plt.show()\n",
    "plt.plot(recall, precision,label='XGB: Avg precision 39%',color='b',linewidth=3)\n",
    "plt.plot(recall2, precision2,label='Log Reg: Avg precision 17%',color='k')\n",
    "plt.xlabel('Recall',fontproperties=font)\n",
    "plt.ylabel('Precision',fontproperties=font)\n",
    "plt.title('Precision-recall curve',fontproperties=font)\n",
    "plt.legend()\n",
    "plt.show()"
   ]
  },
  {
   "cell_type": "code",
   "execution_count": 73,
   "metadata": {},
   "outputs": [
    {
     "name": "stdout",
     "output_type": "stream",
     "text": [
      "[0.00618466 0.00828622 0.00455959 0.3833227  0.00581767 0.00757533\n",
      " 0.0048437  0.00633884 0.00642784 0.00677436 0.00834848 0.00750496\n",
      " 0.00782658 0.00961544 0.00667662 0.00694562 0.00738621 0.00842917\n",
      " 0.01166349 0.00891904 0.00854231 0.01499266 0.01353355 0.01248297\n",
      " 0.01019163 0.01046736 0.01093874 0.00940216 0.01173065 0.01015533\n",
      " 0.01038146 0.0080455  0.00895323 0.01078525 0.03722313 0.\n",
      " 0.00843443 0.00958362 0.01320022 0.01179993 0.00812981 0.01199019\n",
      " 0.01916527 0.00831527 0.00915883 0.00908144 0.00887408 0.01313165\n",
      " 0.01077865 0.00743597 0.00875662 0.02023667 0.04142031 0.01657304\n",
      " 0.00803405 0.01187351 0.0103827  0.02237137]\n"
     ]
    }
   ],
   "source": [
    "#print(xgbrf.coef_)\n",
    "print(xgbrf.feature_importances_)"
   ]
  },
  {
   "cell_type": "code",
   "execution_count": 95,
   "metadata": {},
   "outputs": [
    {
     "data": {
      "text/plain": [
       "(array([1035, 1036, 1037, 1038, 1040, 1041, 1042, 1043, 1044, 1045, 1046,\n",
       "        1047, 1048, 1049, 1050, 1051, 1052, 1053, 1054, 1055, 1056, 1057,\n",
       "        1058, 1059, 1060, 1061, 1062, 1063, 1064, 1065, 1066, 1067, 1068,\n",
       "        1069, 1070, 1071, 1072, 1073, 1074, 1075, 1076, 1077, 1078, 1079,\n",
       "        1080, 1081, 1082, 1083, 1084, 1085]),)"
      ]
     },
     "execution_count": 95,
     "metadata": {},
     "output_type": "execute_result"
    }
   ],
   "source": [
    "np.where(precision>=0.7)"
   ]
  },
  {
   "cell_type": "code",
   "execution_count": 94,
   "metadata": {},
   "outputs": [
    {
     "name": "stdout",
     "output_type": "stream",
     "text": [
      "[0.7        0.71428571 0.70833333 0.70212766 0.71111111 0.70454545\n",
      " 0.72093023 0.73809524 0.73170732 0.725      0.71794872 0.73684211\n",
      " 0.75675676 0.75       0.74285714 0.73529412 0.72727273 0.75\n",
      " 0.74193548 0.76666667 0.75862069 0.75       0.74074074 0.73076923\n",
      " 0.76       0.75       0.7826087  0.81818182 0.80952381 0.8\n",
      " 0.78947368 0.83333333 0.88235294 0.875      0.86666667 0.92857143\n",
      " 0.92307692 0.91666667 0.90909091 0.9        0.88888889 0.875\n",
      " 0.85714286 0.83333333 0.8        0.75       1.         1.\n",
      " 1.         1.        ]\n",
      "[0.175 0.175 0.17  0.165 0.16  0.155 0.155 0.155 0.15  0.145 0.14  0.14\n",
      " 0.14  0.135 0.13  0.125 0.12  0.12  0.115 0.115 0.11  0.105 0.1   0.095\n",
      " 0.095 0.09  0.09  0.09  0.085 0.08  0.075 0.075 0.075 0.07  0.065 0.065\n",
      " 0.06  0.055 0.05  0.045 0.04  0.035 0.03  0.025 0.02  0.015 0.015 0.01\n",
      " 0.005 0.   ]\n"
     ]
    }
   ],
   "source": [
    "for i in np.where(precision>=0.7):\n",
    "    print(precision[i])\n",
    "    print(recall[i])"
   ]
  },
  {
   "cell_type": "code",
   "execution_count": 98,
   "metadata": {},
   "outputs": [
    {
     "data": {
      "text/plain": [
       "0.14"
      ]
     },
     "execution_count": 98,
     "metadata": {},
     "output_type": "execute_result"
    }
   ],
   "source": [
    "recall[1048]"
   ]
  },
  {
   "cell_type": "code",
   "execution_count": 74,
   "metadata": {
    "scrolled": true
   },
   "outputs": [
    {
     "data": {
      "text/plain": [
       "<matplotlib.axes._subplots.AxesSubplot at 0x1a287668d0>"
      ]
     },
     "execution_count": 74,
     "metadata": {},
     "output_type": "execute_result"
    },
    {
     "data": {
      "text/plain": [
       "<Figure size 1440x1440 with 0 Axes>"
      ]
     },
     "metadata": {},
     "output_type": "display_data"
    },
    {
     "data": {
      "image/png": "[encoded data removed]",
      "text/plain": [
       "<Figure size 432x288 with 1 Axes>"
      ]
     },
     "metadata": {
      "needs_background": "light"
     },
     "output_type": "display_data"
    }
   ],
   "source": [
    "plt.figure(figsize=(20, 20),tight_layout=True)\n",
    "xgb.plot_importance(xgbrf, ax=None, height=0.2, xlim=None, ylim=None, title='Feature importance', xlabel='F score', ylabel='Features', importance_type='weight', max_num_features=None, grid=True, show_values=True)\n"
   ]
  },
  {
   "cell_type": "code",
   "execution_count": 110,
   "metadata": {},
   "outputs": [],
   "source": [
    "import pickle\n",
    "# save model to file\n",
    "pickle.dump(xgbrf, open('xgbrf.pkl', 'wb'))"
   ]
  },
  {
   "cell_type": "code",
   "execution_count": 56,
   "metadata": {},
   "outputs": [
    {
     "data": {
      "text/plain": [
       "0.941"
      ]
     },
     "execution_count": 56,
     "metadata": {},
     "output_type": "execute_result"
    }
   ],
   "source": [
    "#np.where(recall>=0.6)\n",
    "np.where(fpr>0.50)\n",
    "tpr[352]"
   ]
  },
  {
   "cell_type": "code",
   "execution_count": 36,
   "metadata": {},
   "outputs": [
    {
     "data": {
      "text/plain": [
       "(array([1172, 1173, 1175, 1176, 1178]),)"
      ]
     },
     "execution_count": 36,
     "metadata": {},
     "output_type": "execute_result"
    }
   ],
   "source": [
    "np.where(precision>=0.3)"
   ]
  },
  {
   "cell_type": "code",
   "execution_count": 37,
   "metadata": {},
   "outputs": [
    {
     "data": {
      "text/plain": [
       "0.01"
      ]
     },
     "execution_count": 37,
     "metadata": {},
     "output_type": "execute_result"
    }
   ],
   "source": [
    "recall[1172]"
   ]
  },
  {
   "cell_type": "code",
   "execution_count": 127,
   "metadata": {},
   "outputs": [
    {
     "data": {
      "text/plain": [
       "0.51027197"
      ]
     },
     "execution_count": 127,
     "metadata": {},
     "output_type": "execute_result"
    }
   ],
   "source": [
    "pr_th[1130]"
   ]
  },
  {
   "cell_type": "markdown",
   "metadata": {},
   "source": [
    "## Feature importance"
   ]
  },
  {
   "cell_type": "code",
   "execution_count": 109,
   "metadata": {},
   "outputs": [
    {
     "name": "stdout",
     "output_type": "stream",
     "text": [
      "[23:22:56] WARNING: /Users/travis/build/dmlc/xgboost/src/learner.cc:480: \n",
      "Parameters: { boosting_rounds, early_stopping_rounds } might not be used.\n",
      "\n",
      "  This may not be accurate due to some parameters are only used in language bindings but\n",
      "  passed down to XGBoost core.  Or some parameters are not used but slip through this\n",
      "  verification. Please open an issue if you find above cases.\n",
      "\n",
      "\n"
     ]
    }
   ],
   "source": [
    "my_model2 = xgbrf.fit(X_train, y_train, eval_metric='aucpr', verbose=True)"
   ]
  },
  {
   "cell_type": "code",
   "execution_count": 111,
   "metadata": {},
   "outputs": [],
   "source": [
    "mybooster = xgbrf.get_booster()"
   ]
  },
  {
   "cell_type": "code",
   "execution_count": 112,
   "metadata": {},
   "outputs": [],
   "source": [
    "model_bytearray = mybooster.save_raw()[4:]\n",
    "def myfun(self=None):\n",
    "    return model_bytearray\n",
    "\n",
    "mybooster.save_raw = myfun"
   ]
  },
  {
   "cell_type": "code",
   "execution_count": 113,
   "metadata": {},
   "outputs": [
    {
     "name": "stderr",
     "output_type": "stream",
     "text": [
      "Setting feature_perturbation = \"tree_path_dependent\" because no background data was given.\n"
     ]
    },
    {
     "data": {
      "image/png": "[encoded data removed]",
      "text/plain": [
       "<Figure size 576x252 with 2 Axes>"
      ]
     },
     "metadata": {
      "needs_background": "light"
     },
     "output_type": "display_data"
    }
   ],
   "source": [
    "import shap  # package used to calculate Shap values\n",
    "\n",
    "# Create object that can calculate shap values\n",
    "explainer = shap.TreeExplainer(mybooster)\n",
    "\n",
    "# calculate shap values. This is what we will plot.\n",
    "# Calculate shap_values for all of val_X rather than a single row, to have more data for plot.\n",
    "shap_values = explainer.shap_values(X_test,check_additivity=False)\n",
    "shap_values = [shap_values]\n",
    "\n",
    "# Make plot. Index of [1] is explained in text below.\n",
    "shap.summary_plot(shap_values[0], X_test, max_display=5)#,max_display = 20)\n"
   ]
  },
  {
   "cell_type": "code",
   "execution_count": 55,
   "metadata": {},
   "outputs": [
    {
     "data": {
      "text/html": [
       "[array([[-3.50822019e-03,  4.83849493e-04, -6.23251021e-01, ...,\n",
       "        -3.89422849e-03, -2.11118930e-03, -1.74803603e-02],\n",
       "       [-2.58113723e-03, -2.48108874e-03, -5.88305473e-01, ...,\n",
       "        -2.49937735e-03,  2.84709851e-03, -3.73348652e-04],\n",
       "       [-1.81731244e-03, -2.80552485e-04, -5.90397418e-01, ...,\n",
       "        -3.45597789e-03, -1.32229626e-02, -9.89659876e-03],\n",
       "       ...,\n",
       "       [-5.36517822e-04, -5.89314441e-05,  1.79805413e-01, ...,\n",
       "        -4.02810867e-04, -3.69431451e-03, -9.59148339e-04],\n",
       "       [-1.14822426e-04, -1.93146669e-04,  1.58806220e-01, ...,\n",
       "         3.51435563e-04,  7.54625769e-04, -1.12172624e-03],\n",
       "       [-1.18618831e-04, -5.89959891e-05,  1.56249180e-01, ...,\n",
       "         7.16748764e-04, -2.79617700e-04, -4.78671544e-04]], dtype=float32)]"
      ],
      "text/plain": [
       "[array([[-3.50822019e-03,  4.83849493e-04, -6.23251021e-01, ...,\n",
       "         -3.89422849e-03, -2.11118930e-03, -1.74803603e-02],\n",
       "        [-2.58113723e-03, -2.48108874e-03, -5.88305473e-01, ...,\n",
       "         -2.49937735e-03,  2.84709851e-03, -3.73348652e-04],\n",
       "        [-1.81731244e-03, -2.80552485e-04, -5.90397418e-01, ...,\n",
       "         -3.45597789e-03, -1.32229626e-02, -9.89659876e-03],\n",
       "        ...,\n",
       "        [-5.36517822e-04, -5.89314441e-05,  1.79805413e-01, ...,\n",
       "         -4.02810867e-04, -3.69431451e-03, -9.59148339e-04],\n",
       "        [-1.14822426e-04, -1.93146669e-04,  1.58806220e-01, ...,\n",
       "          3.51435563e-04,  7.54625769e-04, -1.12172624e-03],\n",
       "        [-1.18618831e-04, -5.89959891e-05,  1.56249180e-01, ...,\n",
       "          7.16748764e-04, -2.79617700e-04, -4.78671544e-04]], dtype=float32)]"
      ]
     },
     "execution_count": 55,
     "metadata": {},
     "output_type": "execute_result"
    }
   ],
   "source": [
    "[shap_values]"
   ]
  },
  {
   "cell_type": "code",
   "execution_count": 48,
   "metadata": {},
   "outputs": [
    {
     "data": {
      "text/plain": [
       "2"
      ]
     },
     "execution_count": 48,
     "metadata": {},
     "output_type": "execute_result"
    }
   ],
   "source": [
    "len(shap_values)"
   ]
  },
  {
   "cell_type": "code",
   "execution_count": 51,
   "metadata": {},
   "outputs": [
    {
     "name": "stdout",
     "output_type": "stream",
     "text": [
      "[array([[ 2.71026028e-03, -6.75424465e-03,  2.71634466e-01, ...,\n",
      "         5.61981729e-03,  1.04353760e-03,  1.63285307e-02],\n",
      "       [ 1.93105169e-03, -1.37258716e-04,  2.56683208e-01, ...,\n",
      "         8.74700952e-03, -1.19208824e-03,  6.20882983e-04],\n",
      "       [ 1.52156146e-03, -3.81680320e-03,  2.57030125e-01, ...,\n",
      "         2.82944798e-03,  4.75993668e-03,  5.29658201e-03],\n",
      "       ...,\n",
      "       [ 2.33085902e-03, -1.50367335e-02, -3.99735227e-01, ...,\n",
      "        -2.18988039e-03,  4.58677198e-03, -3.68265654e-03],\n",
      "       [-3.89162744e-04, -4.21897586e-03, -3.73956564e-01, ...,\n",
      "        -1.59637931e-03, -7.25734229e-04, -2.86335087e-03],\n",
      "       [ 2.71928748e-03, -1.36864915e-02, -3.67259144e-01, ...,\n",
      "        -1.53709300e-03,  1.64299633e-03,  2.52958524e-04]]), array([[-2.71026028e-03,  6.75424465e-03, -2.71634466e-01, ...,\n",
      "        -5.61981729e-03, -1.04353760e-03, -1.63285307e-02],\n",
      "       [-1.93105169e-03,  1.37258716e-04, -2.56683208e-01, ...,\n",
      "        -8.74700952e-03,  1.19208824e-03, -6.20882983e-04],\n",
      "       [-1.52156146e-03,  3.81680320e-03, -2.57030125e-01, ...,\n",
      "        -2.82944798e-03, -4.75993668e-03, -5.29658201e-03],\n",
      "       ...,\n",
      "       [-2.33085902e-03,  1.50367335e-02,  3.99735227e-01, ...,\n",
      "         2.18988039e-03, -4.58677198e-03,  3.68265654e-03],\n",
      "       [ 3.89162744e-04,  4.21897586e-03,  3.73956564e-01, ...,\n",
      "         1.59637931e-03,  7.25734229e-04,  2.86335087e-03],\n",
      "       [-2.71928748e-03,  1.36864915e-02,  3.67259144e-01, ...,\n",
      "         1.53709300e-03, -1.64299633e-03, -2.52958524e-04]])]\n"
     ]
    }
   ],
   "source": [
    "print(shap_values)"
   ]
  },
  {
   "cell_type": "code",
   "execution_count": 41,
   "metadata": {},
   "outputs": [],
   "source": [
    "my_model = RandomForestClassifier(random_state=101).fit(X_train, y_train)"
   ]
  },
  {
   "cell_type": "code",
   "execution_count": 42,
   "metadata": {},
   "outputs": [
    {
     "name": "stderr",
     "output_type": "stream",
     "text": [
      "Setting feature_perturbation = \"tree_path_dependent\" because no background data was given.\n"
     ]
    },
    {
     "data": {
      "image/png": "[encoded data removed]",
      "text/plain": [
       "<Figure size 576x252 with 2 Axes>"
      ]
     },
     "metadata": {
      "needs_background": "light"
     },
     "output_type": "display_data"
    }
   ],
   "source": [
    "import shap  # package used to calculate Shap values\n",
    "\n",
    "# Create object that can calculate shap values\n",
    "explainer = shap.TreeExplainer(my_model)\n",
    "\n",
    "# calculate shap values. This is what we will plot.\n",
    "# Calculate shap_values for all of val_X rather than a single row, to have more data for plot.\n",
    "shap_values = explainer.shap_values(X_test,check_additivity=False)\n",
    "\n",
    "# Make plot. Index of [1] is explained in text below.\n",
    "shap.summary_plot(shap_values[1], X_test,max_display = 5)"
   ]
  },
  {
   "cell_type": "code",
   "execution_count": 37,
   "metadata": {},
   "outputs": [],
   "source": [
    "#pred = my_model.fit(X_train, y_train).predict(X_test)\n",
    "pred = my_model.predict(X_test)\n",
    "f1 = f1_score(y_test, pred, average='macro')\n",
    "acc = accuracy_score(y_test, pred)\n",
    "p1 = precision_score(y_test, pred)\n",
    "auc = roc_auc_score(y_test, pred)"
   ]
  },
  {
   "cell_type": "code",
   "execution_count": 38,
   "metadata": {},
   "outputs": [
    {
     "name": "stdout",
     "output_type": "stream",
     "text": [
      "f1-score: 0.8995050751199563\n",
      "accuracy: 0.9005\n",
      "precision: 1.0\n",
      "auc: 0.9005000000000001\n",
      "[[1000    0]\n",
      " [ 199  801]] \n",
      "\n"
     ]
    }
   ],
   "source": [
    "print('f1-score:', f1)\n",
    "print('accuracy:', acc)\n",
    "print('precision:',p1)\n",
    "print('auc:',auc)\n",
    "print(confusion_matrix(y_test, pred), '\\n')"
   ]
  },
  {
   "cell_type": "code",
   "execution_count": null,
   "metadata": {},
   "outputs": [],
   "source": []
  },
  {
   "cell_type": "code",
   "execution_count": 141,
   "metadata": {},
   "outputs": [
    {
     "data": {
      "text/plain": [
       "RFECV(cv=StratifiedKFold(n_splits=10, random_state=None, shuffle=False),\n",
       "      estimator=RandomForestClassifier(random_state=101), scoring='roc_auc')"
      ]
     },
     "execution_count": 141,
     "metadata": {},
     "output_type": "execute_result"
    }
   ],
   "source": [
    "from sklearn.ensemble import RandomForestClassifier\n",
    "from sklearn.model_selection import StratifiedKFold\n",
    "from sklearn.feature_selection import RFECV\n",
    "#Recursive feature elimination\n",
    "rfc = RandomForestClassifier(random_state=101)\n",
    "rfecv = RFECV(estimator=rfc, step=1, cv=StratifiedKFold(10), scoring='roc_auc')\n",
    "rfecv.fit(X_train, y_train)"
   ]
  },
  {
   "cell_type": "code",
   "execution_count": 142,
   "metadata": {},
   "outputs": [
    {
     "name": "stdout",
     "output_type": "stream",
     "text": [
      "Optimal number of features: 47\n"
     ]
    },
    {
     "data": {
      "image/png": "[encoded data removed]",
      "text/plain": [
       "<Figure size 1152x648 with 1 Axes>"
      ]
     },
     "metadata": {
      "needs_background": "light"
     },
     "output_type": "display_data"
    }
   ],
   "source": [
    "print('Optimal number of features: {}'.format(rfecv.n_features_))\n",
    "plt.figure(figsize=(16, 9))\n",
    "plt.title('Recursive Feature Elimination with Cross-Validation', fontsize=18, fontweight='bold', pad=20)\n",
    "plt.xlabel('Number of features selected', fontsize=14, labelpad=20)\n",
    "plt.ylabel('% Correct Classification', fontsize=14, labelpad=20)\n",
    "plt.plot(range(1, len(rfecv.grid_scores_) + 1), rfecv.grid_scores_, color='#303F9F', linewidth=3)\n",
    "\n",
    "plt.show()"
   ]
  },
  {
   "cell_type": "code",
   "execution_count": 143,
   "metadata": {},
   "outputs": [],
   "source": [
    "#X_train.columns[57]"
   ]
  },
  {
   "cell_type": "code",
   "execution_count": 144,
   "metadata": {},
   "outputs": [
    {
     "name": "stdout",
     "output_type": "stream",
     "text": [
      "[ 0  1  2  4 10 11 12 13 14 18 19 20 21 22 23 24 25 26 27 28 29 30 31 32\n",
      " 33 34 35 37 38 39 40 41 42 43 44 45 46 47 48 49 50 51 52 53 54 55 58]\n"
     ]
    }
   ],
   "source": [
    "print(np.where(rfecv.support_ == True)[0])"
   ]
  },
  {
   "cell_type": "code",
   "execution_count": 157,
   "metadata": {},
   "outputs": [
    {
     "data": {
      "text/plain": [
       "'PropFluc2'"
      ]
     },
     "execution_count": 157,
     "metadata": {},
     "output_type": "execute_result"
    }
   ],
   "source": [
    "X_train.columns[56]"
   ]
  },
  {
   "cell_type": "code",
   "execution_count": 153,
   "metadata": {},
   "outputs": [
    {
     "data": {
      "text/plain": [
       "Index(['Rectime', 'mu', 'sigma', 'medfreq', 'Entropy', '0', '1', '2', '3', '4',\n",
       "       '5', '6', 'FT3f', '8', '9', '10', '11', '12', '13', '14', '15', '16',\n",
       "       '17', '18', '19', 'PSD5A', '21', '22', '23', 'AC4f', 'AC5f', '26',\n",
       "       'AC2A', '28', '29', 'Amplitude5thPeak', '31', 'c1', 'c2', 'c3',\n",
       "       'OutlierInt', 'c5', '1_over_e_Crossing', '1st_Min_AC', 'c8',\n",
       "       'FPS_centroid', 'c10', 'TRS', 'c12', 'AMImin1', 'Sdiff1', 'Sdiff2',\n",
       "       'PermutationEntropy', 'CorrelationLengthChange', 'c18', 'PropFluc1',\n",
       "       'PropFluc2', 'c21', 'Periodicity'],\n",
       "      dtype='object')"
      ]
     },
     "execution_count": 153,
     "metadata": {},
     "output_type": "execute_result"
    }
   ],
   "source": [
    "X_train.columns"
   ]
  },
  {
   "cell_type": "code",
   "execution_count": 183,
   "metadata": {},
   "outputs": [
    {
     "data": {
      "text/html": [
       "[['Rectime', 'mu', 'sigma', 'Entropy', '5', '6', 'FT3f', '8', '9', '13', '14', '15', '16', '17', '18', '19', 'PSD5A', '21', '22', '23', 'AC4f', 'AC5f', '26', 'AC2A', '28', '29', 'Amplitude5thPeak', 'c1', 'c2', 'c3', 'OutlierInt', 'c5', '1_over_e_Crossing', '1st_Min_AC', 'c8', 'FPS_centroid', 'c10', 'TRS', 'c12', 'AMImin1', 'Sdiff1', 'Sdiff2', 'PermutationEntropy', 'CorrelationLengthChange', 'c18', 'PropFluc1', 'PropFluc2', 'Periodicity']]"
      ],
      "text/plain": [
       "[['Rectime',\n",
       "  'mu',\n",
       "  'sigma',\n",
       "  'Entropy',\n",
       "  '5',\n",
       "  '6',\n",
       "  'FT3f',\n",
       "  '8',\n",
       "  '9',\n",
       "  '13',\n",
       "  '14',\n",
       "  '15',\n",
       "  '16',\n",
       "  '17',\n",
       "  '18',\n",
       "  '19',\n",
       "  'PSD5A',\n",
       "  '21',\n",
       "  '22',\n",
       "  '23',\n",
       "  'AC4f',\n",
       "  'AC5f',\n",
       "  '26',\n",
       "  'AC2A',\n",
       "  '28',\n",
       "  '29',\n",
       "  'Amplitude5thPeak',\n",
       "  'c1',\n",
       "  'c2',\n",
       "  'c3',\n",
       "  'OutlierInt',\n",
       "  'c5',\n",
       "  '1_over_e_Crossing',\n",
       "  '1st_Min_AC',\n",
       "  'c8',\n",
       "  'FPS_centroid',\n",
       "  'c10',\n",
       "  'TRS',\n",
       "  'c12',\n",
       "  'AMImin1',\n",
       "  'Sdiff1',\n",
       "  'Sdiff2',\n",
       "  'PermutationEntropy',\n",
       "  'CorrelationLengthChange',\n",
       "  'c18',\n",
       "  'PropFluc1',\n",
       "  'PropFluc2',\n",
       "  'Periodicity']]"
      ]
     },
     "execution_count": 183,
     "metadata": {},
     "output_type": "execute_result"
    }
   ],
   "source": [
    "[['Rectime', 'mu', 'sigma','Entropy',\n",
    "       '5', '6', 'FT3f', '8', '9', '13', '14', '15', '16',\n",
    "       '17', '18', '19', 'PSD5A', '21', '22', '23', 'AC4f', 'AC5f', '26',\n",
    "       'AC2A', '28', '29', 'Amplitude5thPeak', 'c1', 'c2', 'c3',\n",
    "       'OutlierInt', 'c5', '1_over_e_Crossing', '1st_Min_AC', 'c8',\n",
    "       'FPS_centroid', 'c10', 'TRS', 'c12', 'AMImin1', 'Sdiff1', 'Sdiff2',\n",
    "       'PermutationEntropy', 'CorrelationLengthChange', 'c18', 'PropFluc1',\n",
    "       'PropFluc2','Periodicity']]"
   ]
  },
  {
   "cell_type": "markdown",
   "metadata": {},
   "source": [
    "## RF Tuning-->all params"
   ]
  },
  {
   "cell_type": "code",
   "execution_count": 37,
   "metadata": {},
   "outputs": [
    {
     "name": "stdout",
     "output_type": "stream",
     "text": [
      "Fitting 3 folds for each of 250 candidates, totalling 750 fits\n"
     ]
    },
    {
     "name": "stderr",
     "output_type": "stream",
     "text": [
      "[Parallel(n_jobs=-1)]: Using backend LokyBackend with 4 concurrent workers.\n",
      "[Parallel(n_jobs=-1)]: Done  42 tasks      | elapsed:   44.1s\n",
      "[Parallel(n_jobs=-1)]: Done 192 tasks      | elapsed:  4.0min\n",
      "[Parallel(n_jobs=-1)]: Done 442 tasks      | elapsed: 10.2min\n",
      "[Parallel(n_jobs=-1)]: Done 750 out of 750 | elapsed: 16.9min finished\n"
     ]
    }
   ],
   "source": [
    "from sklearn.model_selection import RandomizedSearchCV\n",
    "from sklearn.metrics import average_precision_score, make_scorer\n",
    "from sklearn.ensemble import RandomForestClassifier\n",
    "\n",
    "random_state=101\n",
    "\n",
    "search_space = [\n",
    "  {'n_estimators': [50, 100, 200],\n",
    "   'criterion': ['gini', 'entropy'],\n",
    "   'max_depth': range(3,13),\n",
    "   'min_samples_split': [2, 4, 8, 16],\n",
    "   'min_samples_leaf': range(1,6),\n",
    "   'max_features': ['sqrt', 'log2', 0.5, None],\n",
    "   'max_leaf_nodes':[None, 10, 50, 100],\n",
    "   'min_impurity_decrease': [0, 0.01, 0.05, 0.1],\n",
    "   'bootstrap': [True, False],\n",
    "   'ccp_alpha': [0, 0.01, 0.05, 0.1],\n",
    "   'max_samples': [None, 0.5, 0.8]\n",
    "  }\n",
    "]\n",
    "\n",
    "rf = RandomForestClassifier(n_jobs = -1, random_state=random_state, class_weight = 'balanced_subsample')\n",
    "\n",
    "# AUC and average precision as score\n",
    "scoring = {'AUC':'roc_auc', 'Average precision':make_scorer(average_precision_score)}\n",
    "# Define grid search\n",
    "grid = RandomizedSearchCV(\n",
    "                          rf,\n",
    "                          search_space,\n",
    "                          cv=3,\n",
    "                          scoring=scoring,\n",
    "                          refit='Average precision',\n",
    "                          n_iter=250,\n",
    "                          verbose=1,\n",
    "                          n_jobs=-1,\n",
    "                          return_train_score=True\n",
    ")\n",
    "# Fit grid search\n",
    "model = grid.fit(X_train, y_train)"
   ]
  },
  {
   "cell_type": "code",
   "execution_count": 38,
   "metadata": {},
   "outputs": [
    {
     "data": {
      "text/html": [
       "<div>\n",
       "<style scoped>\n",
       "    .dataframe tbody tr th:only-of-type {\n",
       "        vertical-align: middle;\n",
       "    }\n",
       "\n",
       "    .dataframe tbody tr th {\n",
       "        vertical-align: top;\n",
       "    }\n",
       "\n",
       "    .dataframe thead th {\n",
       "        text-align: right;\n",
       "    }\n",
       "</style>\n",
       "<table border=\"1\" class=\"dataframe\">\n",
       "  <thead>\n",
       "    <tr style=\"text-align: right;\">\n",
       "      <th></th>\n",
       "      <th>mean_test_AUC</th>\n",
       "      <th>mean_train_AUC</th>\n",
       "      <th>mean_test_Average precision</th>\n",
       "      <th>mean_train_Average precision</th>\n",
       "    </tr>\n",
       "  </thead>\n",
       "  <tbody>\n",
       "    <tr>\n",
       "      <th>125</th>\n",
       "      <td>0.933665</td>\n",
       "      <td>0.933654</td>\n",
       "      <td>0.933665</td>\n",
       "      <td>0.933653</td>\n",
       "    </tr>\n",
       "    <tr>\n",
       "      <th>165</th>\n",
       "      <td>0.945027</td>\n",
       "      <td>0.952718</td>\n",
       "      <td>0.933665</td>\n",
       "      <td>0.933653</td>\n",
       "    </tr>\n",
       "    <tr>\n",
       "      <th>150</th>\n",
       "      <td>0.933665</td>\n",
       "      <td>0.933653</td>\n",
       "      <td>0.933665</td>\n",
       "      <td>0.933653</td>\n",
       "    </tr>\n",
       "    <tr>\n",
       "      <th>151</th>\n",
       "      <td>0.931441</td>\n",
       "      <td>0.935284</td>\n",
       "      <td>0.933665</td>\n",
       "      <td>0.933653</td>\n",
       "    </tr>\n",
       "    <tr>\n",
       "      <th>152</th>\n",
       "      <td>0.933665</td>\n",
       "      <td>0.933653</td>\n",
       "      <td>0.933665</td>\n",
       "      <td>0.933653</td>\n",
       "    </tr>\n",
       "    <tr>\n",
       "      <th>153</th>\n",
       "      <td>0.933665</td>\n",
       "      <td>0.933653</td>\n",
       "      <td>0.933665</td>\n",
       "      <td>0.933653</td>\n",
       "    </tr>\n",
       "    <tr>\n",
       "      <th>154</th>\n",
       "      <td>0.933665</td>\n",
       "      <td>0.933653</td>\n",
       "      <td>0.933665</td>\n",
       "      <td>0.933653</td>\n",
       "    </tr>\n",
       "    <tr>\n",
       "      <th>155</th>\n",
       "      <td>0.931052</td>\n",
       "      <td>0.945112</td>\n",
       "      <td>0.933665</td>\n",
       "      <td>0.933653</td>\n",
       "    </tr>\n",
       "    <tr>\n",
       "      <th>156</th>\n",
       "      <td>0.937295</td>\n",
       "      <td>0.940838</td>\n",
       "      <td>0.933665</td>\n",
       "      <td>0.933653</td>\n",
       "    </tr>\n",
       "    <tr>\n",
       "      <th>157</th>\n",
       "      <td>0.933665</td>\n",
       "      <td>0.933653</td>\n",
       "      <td>0.933665</td>\n",
       "      <td>0.933653</td>\n",
       "    </tr>\n",
       "    <tr>\n",
       "      <th>158</th>\n",
       "      <td>0.933665</td>\n",
       "      <td>0.933654</td>\n",
       "      <td>0.933665</td>\n",
       "      <td>0.933653</td>\n",
       "    </tr>\n",
       "    <tr>\n",
       "      <th>159</th>\n",
       "      <td>0.933665</td>\n",
       "      <td>0.933653</td>\n",
       "      <td>0.933665</td>\n",
       "      <td>0.933653</td>\n",
       "    </tr>\n",
       "    <tr>\n",
       "      <th>161</th>\n",
       "      <td>0.949354</td>\n",
       "      <td>0.954245</td>\n",
       "      <td>0.933665</td>\n",
       "      <td>0.933653</td>\n",
       "    </tr>\n",
       "    <tr>\n",
       "      <th>162</th>\n",
       "      <td>0.931713</td>\n",
       "      <td>0.935302</td>\n",
       "      <td>0.933665</td>\n",
       "      <td>0.933653</td>\n",
       "    </tr>\n",
       "    <tr>\n",
       "      <th>166</th>\n",
       "      <td>0.933665</td>\n",
       "      <td>0.933630</td>\n",
       "      <td>0.933665</td>\n",
       "      <td>0.933653</td>\n",
       "    </tr>\n",
       "    <tr>\n",
       "      <th>183</th>\n",
       "      <td>0.933665</td>\n",
       "      <td>0.933653</td>\n",
       "      <td>0.933665</td>\n",
       "      <td>0.933653</td>\n",
       "    </tr>\n",
       "    <tr>\n",
       "      <th>168</th>\n",
       "      <td>0.933665</td>\n",
       "      <td>0.933653</td>\n",
       "      <td>0.933665</td>\n",
       "      <td>0.933653</td>\n",
       "    </tr>\n",
       "    <tr>\n",
       "      <th>169</th>\n",
       "      <td>0.932964</td>\n",
       "      <td>0.947067</td>\n",
       "      <td>0.933665</td>\n",
       "      <td>0.933653</td>\n",
       "    </tr>\n",
       "    <tr>\n",
       "      <th>170</th>\n",
       "      <td>0.924268</td>\n",
       "      <td>0.933060</td>\n",
       "      <td>0.933665</td>\n",
       "      <td>0.933653</td>\n",
       "    </tr>\n",
       "    <tr>\n",
       "      <th>171</th>\n",
       "      <td>0.933665</td>\n",
       "      <td>0.933653</td>\n",
       "      <td>0.933665</td>\n",
       "      <td>0.933653</td>\n",
       "    </tr>\n",
       "    <tr>\n",
       "      <th>172</th>\n",
       "      <td>0.920524</td>\n",
       "      <td>0.934469</td>\n",
       "      <td>0.933665</td>\n",
       "      <td>0.933653</td>\n",
       "    </tr>\n",
       "    <tr>\n",
       "      <th>173</th>\n",
       "      <td>0.933665</td>\n",
       "      <td>0.933642</td>\n",
       "      <td>0.933665</td>\n",
       "      <td>0.933653</td>\n",
       "    </tr>\n",
       "    <tr>\n",
       "      <th>174</th>\n",
       "      <td>0.933665</td>\n",
       "      <td>0.933653</td>\n",
       "      <td>0.933665</td>\n",
       "      <td>0.933653</td>\n",
       "    </tr>\n",
       "    <tr>\n",
       "      <th>175</th>\n",
       "      <td>0.938304</td>\n",
       "      <td>0.949639</td>\n",
       "      <td>0.933665</td>\n",
       "      <td>0.933653</td>\n",
       "    </tr>\n",
       "    <tr>\n",
       "      <th>176</th>\n",
       "      <td>0.933618</td>\n",
       "      <td>0.953005</td>\n",
       "      <td>0.933665</td>\n",
       "      <td>0.933653</td>\n",
       "    </tr>\n",
       "    <tr>\n",
       "      <th>177</th>\n",
       "      <td>0.937847</td>\n",
       "      <td>0.955047</td>\n",
       "      <td>0.933665</td>\n",
       "      <td>0.933653</td>\n",
       "    </tr>\n",
       "    <tr>\n",
       "      <th>178</th>\n",
       "      <td>0.933665</td>\n",
       "      <td>0.933653</td>\n",
       "      <td>0.933665</td>\n",
       "      <td>0.933653</td>\n",
       "    </tr>\n",
       "    <tr>\n",
       "      <th>179</th>\n",
       "      <td>0.933665</td>\n",
       "      <td>0.933653</td>\n",
       "      <td>0.933665</td>\n",
       "      <td>0.933653</td>\n",
       "    </tr>\n",
       "    <tr>\n",
       "      <th>149</th>\n",
       "      <td>0.933665</td>\n",
       "      <td>0.933653</td>\n",
       "      <td>0.933665</td>\n",
       "      <td>0.933653</td>\n",
       "    </tr>\n",
       "    <tr>\n",
       "      <th>148</th>\n",
       "      <td>0.933665</td>\n",
       "      <td>0.933666</td>\n",
       "      <td>0.933665</td>\n",
       "      <td>0.933653</td>\n",
       "    </tr>\n",
       "  </tbody>\n",
       "</table>\n",
       "</div>"
      ],
      "text/plain": [
       "     mean_test_AUC  mean_train_AUC  mean_test_Average precision  \\\n",
       "125       0.933665        0.933654                     0.933665   \n",
       "165       0.945027        0.952718                     0.933665   \n",
       "150       0.933665        0.933653                     0.933665   \n",
       "151       0.931441        0.935284                     0.933665   \n",
       "152       0.933665        0.933653                     0.933665   \n",
       "153       0.933665        0.933653                     0.933665   \n",
       "154       0.933665        0.933653                     0.933665   \n",
       "155       0.931052        0.945112                     0.933665   \n",
       "156       0.937295        0.940838                     0.933665   \n",
       "157       0.933665        0.933653                     0.933665   \n",
       "158       0.933665        0.933654                     0.933665   \n",
       "159       0.933665        0.933653                     0.933665   \n",
       "161       0.949354        0.954245                     0.933665   \n",
       "162       0.931713        0.935302                     0.933665   \n",
       "166       0.933665        0.933630                     0.933665   \n",
       "183       0.933665        0.933653                     0.933665   \n",
       "168       0.933665        0.933653                     0.933665   \n",
       "169       0.932964        0.947067                     0.933665   \n",
       "170       0.924268        0.933060                     0.933665   \n",
       "171       0.933665        0.933653                     0.933665   \n",
       "172       0.920524        0.934469                     0.933665   \n",
       "173       0.933665        0.933642                     0.933665   \n",
       "174       0.933665        0.933653                     0.933665   \n",
       "175       0.938304        0.949639                     0.933665   \n",
       "176       0.933618        0.953005                     0.933665   \n",
       "177       0.937847        0.955047                     0.933665   \n",
       "178       0.933665        0.933653                     0.933665   \n",
       "179       0.933665        0.933653                     0.933665   \n",
       "149       0.933665        0.933653                     0.933665   \n",
       "148       0.933665        0.933666                     0.933665   \n",
       "\n",
       "     mean_train_Average precision  \n",
       "125                      0.933653  \n",
       "165                      0.933653  \n",
       "150                      0.933653  \n",
       "151                      0.933653  \n",
       "152                      0.933653  \n",
       "153                      0.933653  \n",
       "154                      0.933653  \n",
       "155                      0.933653  \n",
       "156                      0.933653  \n",
       "157                      0.933653  \n",
       "158                      0.933653  \n",
       "159                      0.933653  \n",
       "161                      0.933653  \n",
       "162                      0.933653  \n",
       "166                      0.933653  \n",
       "183                      0.933653  \n",
       "168                      0.933653  \n",
       "169                      0.933653  \n",
       "170                      0.933653  \n",
       "171                      0.933653  \n",
       "172                      0.933653  \n",
       "173                      0.933653  \n",
       "174                      0.933653  \n",
       "175                      0.933653  \n",
       "176                      0.933653  \n",
       "177                      0.933653  \n",
       "178                      0.933653  \n",
       "179                      0.933653  \n",
       "149                      0.933653  \n",
       "148                      0.933653  "
      ]
     },
     "execution_count": 38,
     "metadata": {},
     "output_type": "execute_result"
    }
   ],
   "source": [
    "resultsrf = pd.DataFrame({'mean_test_AUC':grid.cv_results_['mean_test_AUC'], \\\n",
    "                        'mean_train_AUC':grid.cv_results_['mean_train_AUC'],\\\n",
    "                        'mean_test_Average precision':grid.cv_results_['mean_test_Average precision'],\\\n",
    "                        'mean_train_Average precision':grid.cv_results_['mean_train_Average precision']})\n",
    "resultsrf.sort_values(by='mean_test_Average precision', ascending=False).head(30)"
   ]
  },
  {
   "cell_type": "code",
   "execution_count": 39,
   "metadata": {},
   "outputs": [
    {
     "data": {
      "text/plain": [
       "{'n_estimators': 50,\n",
       " 'min_samples_split': 4,\n",
       " 'min_samples_leaf': 4,\n",
       " 'min_impurity_decrease': 0.05,\n",
       " 'max_samples': 0.5,\n",
       " 'max_leaf_nodes': 10,\n",
       " 'max_features': 0.5,\n",
       " 'max_depth': 3,\n",
       " 'criterion': 'entropy',\n",
       " 'ccp_alpha': 0.01,\n",
       " 'bootstrap': True}"
      ]
     },
     "execution_count": 39,
     "metadata": {},
     "output_type": "execute_result"
    }
   ],
   "source": [
    "grid.best_params_"
   ]
  },
  {
   "cell_type": "code",
   "execution_count": 41,
   "metadata": {},
   "outputs": [
    {
     "name": "stdout",
     "output_type": "stream",
     "text": [
      "[[1000    0]\n",
      " [ 200    0]]\n",
      "              precision    recall  f1-score   support\n",
      "\n",
      "         0.0       0.83      1.00      0.91      1000\n",
      "         1.0       0.00      0.00      0.00       200\n",
      "\n",
      "    accuracy                           0.83      1200\n",
      "   macro avg       0.42      0.50      0.45      1200\n",
      "weighted avg       0.69      0.83      0.76      1200\n",
      "\n"
     ]
    },
    {
     "name": "stderr",
     "output_type": "stream",
     "text": [
      "Precision and F-score are ill-defined and being set to 0.0 in labels with no predicted samples. Use `zero_division` parameter to control this behavior.\n"
     ]
    },
    {
     "data": {
      "image/png": "[encoded data removed]",
      "text/plain": [
       "<Figure size 432x288 with 1 Axes>"
      ]
     },
     "metadata": {
      "needs_background": "light"
     },
     "output_type": "display_data"
    },
    {
     "data": {
      "image/png": "[encoded data removed]",
      "text/plain": [
       "<Figure size 432x288 with 1 Axes>"
      ]
     },
     "metadata": {
      "needs_background": "light"
     },
     "output_type": "display_data"
    }
   ],
   "source": [
    "from sklearn.metrics import classification_report\n",
    "from sklearn.metrics import confusion_matrix\n",
    "from sklearn.metrics import roc_curve\n",
    "from sklearn.metrics import precision_recall_curve\n",
    "import matplotlib.pyplot as plt\n",
    "\n",
    "y_pred = grid.best_estimator_.predict(X_test)\n",
    "\n",
    "print(confusion_matrix(y_test,y_pred))\n",
    "print(classification_report(y_test,y_pred))\n",
    "\n",
    "fpr, tpr, auc_th = roc_curve(y_test, y_pred)\n",
    "precision, recall, pr_th = precision_recall_curve(y_test, y_pred)\n",
    "\n",
    "plt.plot(fpr, tpr)\n",
    "plt.xlabel('False positive rate')\n",
    "plt.ylabel('True positive rate')\n",
    "plt.title('ROC curve')\n",
    "plt.show()\n",
    "plt.plot(recall, precision)\n",
    "plt.xlabel('Recall')\n",
    "plt.ylabel('Precision')\n",
    "plt.title('Precision-recall curve')\n",
    "plt.show()"
   ]
  },
  {
   "cell_type": "code",
   "execution_count": 42,
   "metadata": {},
   "outputs": [
    {
     "name": "stdout",
     "output_type": "stream",
     "text": [
      "{'n_estimators': [1000, 2000], 'max_features': [3, 4, 5, 10, 30], 'min_samples_split': [2, 10]}\n"
     ]
    }
   ],
   "source": [
    "# Number of trees in random forest\n",
    "#n_estimators = [int(x) for x in np.linspace(start = 1000, stop = 5000, num = 4)]\n",
    "n_estimators = [1000, 2000]\n",
    "max_features = [3, 4, 5, 10, 30]\n",
    "# # Maximum number of levels in tree\n",
    "# max_depth = [int(x) for x in np.linspace(10, 100, num = 10)]\n",
    "# max_depth.append(None)\n",
    "# Minimum number of samples required to split a node\n",
    "min_samples_split = [2, 10]\n",
    "# Minimum number of samples reqiuired at each leaf node\n",
    "# min_samples_leaf = [1, 2, 4]\n",
    "# Method of selecting samples for training each tree\n",
    "# bootstrap = [True, False]\n",
    "# Create the random grid\n",
    "random_grid = {\n",
    "               'n_estimators': n_estimators,\n",
    "               'max_features': max_features,\n",
    "               'min_samples_split': min_samples_split}\n",
    "print(random_grid)"
   ]
  },
  {
   "cell_type": "code",
   "execution_count": 43,
   "metadata": {},
   "outputs": [
    {
     "name": "stdout",
     "output_type": "stream",
     "text": [
      "Fitting 5 folds for each of 10 candidates, totalling 50 fits\n"
     ]
    },
    {
     "name": "stderr",
     "output_type": "stream",
     "text": [
      "[Parallel(n_jobs=-1)]: Using backend LokyBackend with 4 concurrent workers.\n",
      "[Parallel(n_jobs=-1)]: Done  33 tasks      | elapsed:  9.5min\n",
      "[Parallel(n_jobs=-1)]: Done  50 out of  50 | elapsed: 15.5min finished\n"
     ]
    }
   ],
   "source": [
    "rf = RandomForestClassifier()\n",
    "# Random search of parameters, using 3 fold cross validation, \n",
    "# search across 10 different combinations, and use all available cores\n",
    "rf_random = RandomizedSearchCV(estimator = rf, param_distributions = random_grid, \\\n",
    "                               cv = StratifiedKFold(5), verbose=2, random_state=101, scoring = 'roc_auc', n_jobs = -1)\n",
    "# Fit the random search model\n",
    "\n",
    "\n",
    "# Fit the random search model\n",
    "#model = rf_random.fit(X_train, y_train)\n",
    "#model = rf_random.fit(train_pca, y_train)\n",
    "#pred = rf_random.fit(X_train, y_train).predict(X_test)\n",
    "#pred = model.fit(X_train, y_train).predict(X_test)\n",
    "pred = rf_random.fit(X_train, y_train).predict(X_test)"
   ]
  },
  {
   "cell_type": "code",
   "execution_count": 99,
   "metadata": {},
   "outputs": [
    {
     "name": "stdout",
     "output_type": "stream",
     "text": [
      "RF\n",
      "f1-score: 0.8980205897439005\n",
      "accuracy: 0.899\n",
      "precision: 0.996268656716418\n",
      "auc: 0.899\n",
      "[[997   3]\n",
      " [199 801]] \n",
      "\n"
     ]
    }
   ],
   "source": [
    "#pred = model.fit(X_train, y_train).predict(X_test)\n",
    "f1 = f1_score(y_test, pred, average='macro')\n",
    "acc = accuracy_score(y_test, pred)\n",
    "p1 = precision_score(y_test, pred)\n",
    "auc = roc_auc_score(y_test, pred)\n",
    "        \n",
    "print('RF')\n",
    "print('f1-score:', f1)\n",
    "print('accuracy:', acc)\n",
    "print('precision:',p1)\n",
    "print('auc:',auc)\n",
    "print(confusion_matrix(y_test, pred), '\\n')"
   ]
  },
  {
   "cell_type": "code",
   "execution_count": null,
   "metadata": {},
   "outputs": [],
   "source": []
  },
  {
   "cell_type": "code",
   "execution_count": null,
   "metadata": {},
   "outputs": [],
   "source": []
  },
  {
   "cell_type": "code",
   "execution_count": null,
   "metadata": {},
   "outputs": [],
   "source": []
  },
  {
   "cell_type": "code",
   "execution_count": null,
   "metadata": {},
   "outputs": [],
   "source": []
  },
  {
   "cell_type": "code",
   "execution_count": null,
   "metadata": {},
   "outputs": [],
   "source": []
  },
  {
   "cell_type": "code",
   "execution_count": null,
   "metadata": {},
   "outputs": [],
   "source": []
  },
  {
   "cell_type": "code",
   "execution_count": null,
   "metadata": {},
   "outputs": [],
   "source": []
  },
  {
   "cell_type": "code",
   "execution_count": null,
   "metadata": {},
   "outputs": [],
   "source": []
  },
  {
   "cell_type": "code",
   "execution_count": null,
   "metadata": {},
   "outputs": [],
   "source": []
  },
  {
   "cell_type": "code",
   "execution_count": null,
   "metadata": {},
   "outputs": [],
   "source": []
  },
  {
   "cell_type": "code",
   "execution_count": 157,
   "metadata": {},
   "outputs": [],
   "source": [
    "# from matplotlib import rc\n",
    "# rc('font',**{'family':'sans-serif','sans-serif':['Helvetica']})\n",
    "# ## for Palatino and other serif fonts use:\n",
    "# #rc('font',**{'family':'serif','serif':['Palatino']})\n",
    "# rc('text', usetex=True)"
   ]
  },
  {
   "cell_type": "code",
   "execution_count": null,
   "metadata": {},
   "outputs": [],
   "source": []
  },
  {
   "cell_type": "code",
   "execution_count": null,
   "metadata": {},
   "outputs": [],
   "source": []
  },
  {
   "cell_type": "code",
   "execution_count": null,
   "metadata": {},
   "outputs": [],
   "source": []
  },
  {
   "cell_type": "code",
   "execution_count": null,
   "metadata": {},
   "outputs": [],
   "source": []
  },
  {
   "cell_type": "code",
   "execution_count": null,
   "metadata": {},
   "outputs": [],
   "source": []
  },
  {
   "cell_type": "code",
   "execution_count": null,
   "metadata": {},
   "outputs": [],
   "source": []
  },
  {
   "cell_type": "code",
   "execution_count": null,
   "metadata": {},
   "outputs": [],
   "source": []
  },
  {
   "cell_type": "code",
   "execution_count": null,
   "metadata": {},
   "outputs": [],
   "source": []
  },
  {
   "cell_type": "code",
   "execution_count": null,
   "metadata": {},
   "outputs": [],
   "source": []
  },
  {
   "cell_type": "code",
   "execution_count": null,
   "metadata": {},
   "outputs": [],
   "source": []
  },
  {
   "cell_type": "code",
   "execution_count": 36,
   "metadata": {},
   "outputs": [
    {
     "data": {
      "text/plain": [
       "(60.5, -0.5)"
      ]
     },
     "execution_count": 36,
     "metadata": {},
     "output_type": "execute_result"
    },
    {
     "data": {
      "image/png": "[encoded data removed]",
      "text/plain": [
       "<Figure size 720x576 with 2 Axes>"
      ]
     },
     "metadata": {
      "needs_background": "light"
     },
     "output_type": "display_data"
    }
   ],
   "source": [
    "plt.figure(figsize=(10,8))\n",
    "ax = sns.heatmap(d_train.corr())\n",
    "bottom, top = ax.get_ylim()\n",
    "ax.set_ylim(bottom + 0.5, top - 0.5)"
   ]
  },
  {
   "cell_type": "code",
   "execution_count": 80,
   "metadata": {},
   "outputs": [
    {
     "data": {
      "text/plain": [
       "<seaborn.axisgrid.JointGrid at 0x1a31612e50>"
      ]
     },
     "execution_count": 80,
     "metadata": {},
     "output_type": "execute_result"
    },
    {
     "data": {
      "image/png": "[encoded data removed]",
      "text/plain": [
       "<Figure size 432x432 with 3 Axes>"
      ]
     },
     "metadata": {
      "needs_background": "light"
     },
     "output_type": "display_data"
    }
   ],
   "source": [
    "sns.jointplot(x='sigma',y='mu',data=d_train,kind='scatter')"
   ]
  },
  {
   "cell_type": "code",
   "execution_count": null,
   "metadata": {},
   "outputs": [],
   "source": []
  },
  {
   "cell_type": "code",
   "execution_count": null,
   "metadata": {},
   "outputs": [],
   "source": []
  }
 ],
 "metadata": {
  "kernelspec": {
   "display_name": "Python 3",
   "language": "python",
   "name": "python3"
  },
  "language_info": {
   "codemirror_mode": {
    "name": "ipython",
    "version": 3
   },
   "file_extension": ".py",
   "mimetype": "text/x-python",
   "name": "python",
   "nbconvert_exporter": "python",
   "pygments_lexer": "ipython3",
   "version": "3.7.6"
  }
 },
 "nbformat": 4,
 "nbformat_minor": 4
}
